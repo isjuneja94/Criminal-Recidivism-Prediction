{
  "nbformat": 4,
  "nbformat_minor": 0,
  "metadata": {
    "colab": {
      "name": "Compas Recidivism project.ipynb",
      "provenance": [],
      "collapsed_sections": []
    },
    "kernelspec": {
      "name": "python3",
      "display_name": "Python 3"
    }
  },
  "cells": [
    {
      "cell_type": "code",
      "metadata": {
        "id": "0T5CpVbAnJBY"
      },
      "source": [
        "import numpy as np\n",
        "import pandas as pd\n",
        "import matplotlib.pyplot as plt\n",
        "from sklearn.preprocessing import OneHotEncoder\n",
        "from sklearn import preprocessing\n",
        "from sklearn.model_selection import train_test_split\n",
        "from sklearn.ensemble import RandomForestClassifier\n",
        "from sklearn.metrics import accuracy_score\n",
        "from sklearn.metrics import confusion_matrix\n",
        "from sklearn.linear_model import LogisticRegression"
      ],
      "execution_count": 1,
      "outputs": []
    },
    {
      "cell_type": "code",
      "metadata": {
        "id": "C7o_uKuDnWQg",
        "outputId": "13a7b6e1-8c5e-41e0-80e8-6a0824d26ff4",
        "colab": {
          "base_uri": "https://localhost:8080/",
          "height": 361
        }
      },
      "source": [
        "#read the dataframe\n",
        "df = pd.read_csv('/content/drive/My Drive/compas-analysis-master/compas-scores-two-years.csv')\n",
        "df.head()"
      ],
      "execution_count": 2,
      "outputs": [
        {
          "output_type": "execute_result",
          "data": {
            "text/html": [
              "<div>\n",
              "<style scoped>\n",
              "    .dataframe tbody tr th:only-of-type {\n",
              "        vertical-align: middle;\n",
              "    }\n",
              "\n",
              "    .dataframe tbody tr th {\n",
              "        vertical-align: top;\n",
              "    }\n",
              "\n",
              "    .dataframe thead th {\n",
              "        text-align: right;\n",
              "    }\n",
              "</style>\n",
              "<table border=\"1\" class=\"dataframe\">\n",
              "  <thead>\n",
              "    <tr style=\"text-align: right;\">\n",
              "      <th></th>\n",
              "      <th>id</th>\n",
              "      <th>name</th>\n",
              "      <th>first</th>\n",
              "      <th>last</th>\n",
              "      <th>compas_screening_date</th>\n",
              "      <th>sex</th>\n",
              "      <th>dob</th>\n",
              "      <th>age</th>\n",
              "      <th>age_cat</th>\n",
              "      <th>race</th>\n",
              "      <th>juv_fel_count</th>\n",
              "      <th>decile_score</th>\n",
              "      <th>juv_misd_count</th>\n",
              "      <th>juv_other_count</th>\n",
              "      <th>priors_count</th>\n",
              "      <th>days_b_screening_arrest</th>\n",
              "      <th>c_jail_in</th>\n",
              "      <th>c_jail_out</th>\n",
              "      <th>c_case_number</th>\n",
              "      <th>c_offense_date</th>\n",
              "      <th>c_arrest_date</th>\n",
              "      <th>c_days_from_compas</th>\n",
              "      <th>c_charge_degree</th>\n",
              "      <th>c_charge_desc</th>\n",
              "      <th>is_recid</th>\n",
              "      <th>r_case_number</th>\n",
              "      <th>r_charge_degree</th>\n",
              "      <th>r_days_from_arrest</th>\n",
              "      <th>r_offense_date</th>\n",
              "      <th>r_charge_desc</th>\n",
              "      <th>r_jail_in</th>\n",
              "      <th>r_jail_out</th>\n",
              "      <th>violent_recid</th>\n",
              "      <th>is_violent_recid</th>\n",
              "      <th>vr_case_number</th>\n",
              "      <th>vr_charge_degree</th>\n",
              "      <th>vr_offense_date</th>\n",
              "      <th>vr_charge_desc</th>\n",
              "      <th>type_of_assessment</th>\n",
              "      <th>decile_score.1</th>\n",
              "      <th>score_text</th>\n",
              "      <th>screening_date</th>\n",
              "      <th>v_type_of_assessment</th>\n",
              "      <th>v_decile_score</th>\n",
              "      <th>v_score_text</th>\n",
              "      <th>v_screening_date</th>\n",
              "      <th>in_custody</th>\n",
              "      <th>out_custody</th>\n",
              "      <th>priors_count.1</th>\n",
              "      <th>start</th>\n",
              "      <th>end</th>\n",
              "      <th>event</th>\n",
              "      <th>two_year_recid</th>\n",
              "    </tr>\n",
              "  </thead>\n",
              "  <tbody>\n",
              "    <tr>\n",
              "      <th>0</th>\n",
              "      <td>1</td>\n",
              "      <td>miguel hernandez</td>\n",
              "      <td>miguel</td>\n",
              "      <td>hernandez</td>\n",
              "      <td>2013-08-14</td>\n",
              "      <td>Male</td>\n",
              "      <td>1947-04-18</td>\n",
              "      <td>69</td>\n",
              "      <td>Greater than 45</td>\n",
              "      <td>Other</td>\n",
              "      <td>0</td>\n",
              "      <td>1</td>\n",
              "      <td>0</td>\n",
              "      <td>0</td>\n",
              "      <td>0</td>\n",
              "      <td>-1.0</td>\n",
              "      <td>2013-08-13 06:03:42</td>\n",
              "      <td>2013-08-14 05:41:20</td>\n",
              "      <td>13011352CF10A</td>\n",
              "      <td>2013-08-13</td>\n",
              "      <td>NaN</td>\n",
              "      <td>1.0</td>\n",
              "      <td>F</td>\n",
              "      <td>Aggravated Assault w/Firearm</td>\n",
              "      <td>0</td>\n",
              "      <td>NaN</td>\n",
              "      <td>NaN</td>\n",
              "      <td>NaN</td>\n",
              "      <td>NaN</td>\n",
              "      <td>NaN</td>\n",
              "      <td>NaN</td>\n",
              "      <td>NaN</td>\n",
              "      <td>NaN</td>\n",
              "      <td>0</td>\n",
              "      <td>NaN</td>\n",
              "      <td>NaN</td>\n",
              "      <td>NaN</td>\n",
              "      <td>NaN</td>\n",
              "      <td>Risk of Recidivism</td>\n",
              "      <td>1</td>\n",
              "      <td>Low</td>\n",
              "      <td>2013-08-14</td>\n",
              "      <td>Risk of Violence</td>\n",
              "      <td>1</td>\n",
              "      <td>Low</td>\n",
              "      <td>2013-08-14</td>\n",
              "      <td>2014-07-07</td>\n",
              "      <td>2014-07-14</td>\n",
              "      <td>0</td>\n",
              "      <td>0</td>\n",
              "      <td>327</td>\n",
              "      <td>0</td>\n",
              "      <td>0</td>\n",
              "    </tr>\n",
              "    <tr>\n",
              "      <th>1</th>\n",
              "      <td>3</td>\n",
              "      <td>kevon dixon</td>\n",
              "      <td>kevon</td>\n",
              "      <td>dixon</td>\n",
              "      <td>2013-01-27</td>\n",
              "      <td>Male</td>\n",
              "      <td>1982-01-22</td>\n",
              "      <td>34</td>\n",
              "      <td>25 - 45</td>\n",
              "      <td>African-American</td>\n",
              "      <td>0</td>\n",
              "      <td>3</td>\n",
              "      <td>0</td>\n",
              "      <td>0</td>\n",
              "      <td>0</td>\n",
              "      <td>-1.0</td>\n",
              "      <td>2013-01-26 03:45:27</td>\n",
              "      <td>2013-02-05 05:36:53</td>\n",
              "      <td>13001275CF10A</td>\n",
              "      <td>2013-01-26</td>\n",
              "      <td>NaN</td>\n",
              "      <td>1.0</td>\n",
              "      <td>F</td>\n",
              "      <td>Felony Battery w/Prior Convict</td>\n",
              "      <td>1</td>\n",
              "      <td>13009779CF10A</td>\n",
              "      <td>(F3)</td>\n",
              "      <td>NaN</td>\n",
              "      <td>2013-07-05</td>\n",
              "      <td>Felony Battery (Dom Strang)</td>\n",
              "      <td>NaN</td>\n",
              "      <td>NaN</td>\n",
              "      <td>NaN</td>\n",
              "      <td>1</td>\n",
              "      <td>13009779CF10A</td>\n",
              "      <td>(F3)</td>\n",
              "      <td>2013-07-05</td>\n",
              "      <td>Felony Battery (Dom Strang)</td>\n",
              "      <td>Risk of Recidivism</td>\n",
              "      <td>3</td>\n",
              "      <td>Low</td>\n",
              "      <td>2013-01-27</td>\n",
              "      <td>Risk of Violence</td>\n",
              "      <td>1</td>\n",
              "      <td>Low</td>\n",
              "      <td>2013-01-27</td>\n",
              "      <td>2013-01-26</td>\n",
              "      <td>2013-02-05</td>\n",
              "      <td>0</td>\n",
              "      <td>9</td>\n",
              "      <td>159</td>\n",
              "      <td>1</td>\n",
              "      <td>1</td>\n",
              "    </tr>\n",
              "    <tr>\n",
              "      <th>2</th>\n",
              "      <td>4</td>\n",
              "      <td>ed philo</td>\n",
              "      <td>ed</td>\n",
              "      <td>philo</td>\n",
              "      <td>2013-04-14</td>\n",
              "      <td>Male</td>\n",
              "      <td>1991-05-14</td>\n",
              "      <td>24</td>\n",
              "      <td>Less than 25</td>\n",
              "      <td>African-American</td>\n",
              "      <td>0</td>\n",
              "      <td>4</td>\n",
              "      <td>0</td>\n",
              "      <td>1</td>\n",
              "      <td>4</td>\n",
              "      <td>-1.0</td>\n",
              "      <td>2013-04-13 04:58:34</td>\n",
              "      <td>2013-04-14 07:02:04</td>\n",
              "      <td>13005330CF10A</td>\n",
              "      <td>2013-04-13</td>\n",
              "      <td>NaN</td>\n",
              "      <td>1.0</td>\n",
              "      <td>F</td>\n",
              "      <td>Possession of Cocaine</td>\n",
              "      <td>1</td>\n",
              "      <td>13011511MM10A</td>\n",
              "      <td>(M1)</td>\n",
              "      <td>0.0</td>\n",
              "      <td>2013-06-16</td>\n",
              "      <td>Driving Under The Influence</td>\n",
              "      <td>2013-06-16</td>\n",
              "      <td>2013-06-16</td>\n",
              "      <td>NaN</td>\n",
              "      <td>0</td>\n",
              "      <td>NaN</td>\n",
              "      <td>NaN</td>\n",
              "      <td>NaN</td>\n",
              "      <td>NaN</td>\n",
              "      <td>Risk of Recidivism</td>\n",
              "      <td>4</td>\n",
              "      <td>Low</td>\n",
              "      <td>2013-04-14</td>\n",
              "      <td>Risk of Violence</td>\n",
              "      <td>3</td>\n",
              "      <td>Low</td>\n",
              "      <td>2013-04-14</td>\n",
              "      <td>2013-06-16</td>\n",
              "      <td>2013-06-16</td>\n",
              "      <td>4</td>\n",
              "      <td>0</td>\n",
              "      <td>63</td>\n",
              "      <td>0</td>\n",
              "      <td>1</td>\n",
              "    </tr>\n",
              "    <tr>\n",
              "      <th>3</th>\n",
              "      <td>5</td>\n",
              "      <td>marcu brown</td>\n",
              "      <td>marcu</td>\n",
              "      <td>brown</td>\n",
              "      <td>2013-01-13</td>\n",
              "      <td>Male</td>\n",
              "      <td>1993-01-21</td>\n",
              "      <td>23</td>\n",
              "      <td>Less than 25</td>\n",
              "      <td>African-American</td>\n",
              "      <td>0</td>\n",
              "      <td>8</td>\n",
              "      <td>1</td>\n",
              "      <td>0</td>\n",
              "      <td>1</td>\n",
              "      <td>NaN</td>\n",
              "      <td>NaN</td>\n",
              "      <td>NaN</td>\n",
              "      <td>13000570CF10A</td>\n",
              "      <td>2013-01-12</td>\n",
              "      <td>NaN</td>\n",
              "      <td>1.0</td>\n",
              "      <td>F</td>\n",
              "      <td>Possession of Cannabis</td>\n",
              "      <td>0</td>\n",
              "      <td>NaN</td>\n",
              "      <td>NaN</td>\n",
              "      <td>NaN</td>\n",
              "      <td>NaN</td>\n",
              "      <td>NaN</td>\n",
              "      <td>NaN</td>\n",
              "      <td>NaN</td>\n",
              "      <td>NaN</td>\n",
              "      <td>0</td>\n",
              "      <td>NaN</td>\n",
              "      <td>NaN</td>\n",
              "      <td>NaN</td>\n",
              "      <td>NaN</td>\n",
              "      <td>Risk of Recidivism</td>\n",
              "      <td>8</td>\n",
              "      <td>High</td>\n",
              "      <td>2013-01-13</td>\n",
              "      <td>Risk of Violence</td>\n",
              "      <td>6</td>\n",
              "      <td>Medium</td>\n",
              "      <td>2013-01-13</td>\n",
              "      <td>NaN</td>\n",
              "      <td>NaN</td>\n",
              "      <td>1</td>\n",
              "      <td>0</td>\n",
              "      <td>1174</td>\n",
              "      <td>0</td>\n",
              "      <td>0</td>\n",
              "    </tr>\n",
              "    <tr>\n",
              "      <th>4</th>\n",
              "      <td>6</td>\n",
              "      <td>bouthy pierrelouis</td>\n",
              "      <td>bouthy</td>\n",
              "      <td>pierrelouis</td>\n",
              "      <td>2013-03-26</td>\n",
              "      <td>Male</td>\n",
              "      <td>1973-01-22</td>\n",
              "      <td>43</td>\n",
              "      <td>25 - 45</td>\n",
              "      <td>Other</td>\n",
              "      <td>0</td>\n",
              "      <td>1</td>\n",
              "      <td>0</td>\n",
              "      <td>0</td>\n",
              "      <td>2</td>\n",
              "      <td>NaN</td>\n",
              "      <td>NaN</td>\n",
              "      <td>NaN</td>\n",
              "      <td>12014130CF10A</td>\n",
              "      <td>NaN</td>\n",
              "      <td>2013-01-09</td>\n",
              "      <td>76.0</td>\n",
              "      <td>F</td>\n",
              "      <td>arrest case no charge</td>\n",
              "      <td>0</td>\n",
              "      <td>NaN</td>\n",
              "      <td>NaN</td>\n",
              "      <td>NaN</td>\n",
              "      <td>NaN</td>\n",
              "      <td>NaN</td>\n",
              "      <td>NaN</td>\n",
              "      <td>NaN</td>\n",
              "      <td>NaN</td>\n",
              "      <td>0</td>\n",
              "      <td>NaN</td>\n",
              "      <td>NaN</td>\n",
              "      <td>NaN</td>\n",
              "      <td>NaN</td>\n",
              "      <td>Risk of Recidivism</td>\n",
              "      <td>1</td>\n",
              "      <td>Low</td>\n",
              "      <td>2013-03-26</td>\n",
              "      <td>Risk of Violence</td>\n",
              "      <td>1</td>\n",
              "      <td>Low</td>\n",
              "      <td>2013-03-26</td>\n",
              "      <td>NaN</td>\n",
              "      <td>NaN</td>\n",
              "      <td>2</td>\n",
              "      <td>0</td>\n",
              "      <td>1102</td>\n",
              "      <td>0</td>\n",
              "      <td>0</td>\n",
              "    </tr>\n",
              "  </tbody>\n",
              "</table>\n",
              "</div>"
            ],
            "text/plain": [
              "   id                name   first  ...   end event two_year_recid\n",
              "0   1    miguel hernandez  miguel  ...   327     0              0\n",
              "1   3         kevon dixon   kevon  ...   159     1              1\n",
              "2   4            ed philo      ed  ...    63     0              1\n",
              "3   5         marcu brown   marcu  ...  1174     0              0\n",
              "4   6  bouthy pierrelouis  bouthy  ...  1102     0              0\n",
              "\n",
              "[5 rows x 53 columns]"
            ]
          },
          "metadata": {
            "tags": []
          },
          "execution_count": 2
        }
      ]
    },
    {
      "cell_type": "code",
      "metadata": {
        "id": "lO-h3BOvoH9s",
        "outputId": "c8f84ac2-3f91-432f-bb03-ca9c4f0d9c92",
        "colab": {
          "base_uri": "https://localhost:8080/"
        }
      },
      "source": [
        "df1 = df\n",
        "df1.count()"
      ],
      "execution_count": 3,
      "outputs": [
        {
          "output_type": "execute_result",
          "data": {
            "text/plain": [
              "id                         7214\n",
              "name                       7214\n",
              "first                      7214\n",
              "last                       7214\n",
              "compas_screening_date      7214\n",
              "sex                        7214\n",
              "dob                        7214\n",
              "age                        7214\n",
              "age_cat                    7214\n",
              "race                       7214\n",
              "juv_fel_count              7214\n",
              "decile_score               7214\n",
              "juv_misd_count             7214\n",
              "juv_other_count            7214\n",
              "priors_count               7214\n",
              "days_b_screening_arrest    6907\n",
              "c_jail_in                  6907\n",
              "c_jail_out                 6907\n",
              "c_case_number              7192\n",
              "c_offense_date             6055\n",
              "c_arrest_date              1137\n",
              "c_days_from_compas         7192\n",
              "c_charge_degree            7214\n",
              "c_charge_desc              7185\n",
              "is_recid                   7214\n",
              "r_case_number              3471\n",
              "r_charge_degree            3471\n",
              "r_days_from_arrest         2316\n",
              "r_offense_date             3471\n",
              "r_charge_desc              3413\n",
              "r_jail_in                  2316\n",
              "r_jail_out                 2316\n",
              "violent_recid                 0\n",
              "is_violent_recid           7214\n",
              "vr_case_number              819\n",
              "vr_charge_degree            819\n",
              "vr_offense_date             819\n",
              "vr_charge_desc              819\n",
              "type_of_assessment         7214\n",
              "decile_score.1             7214\n",
              "score_text                 7214\n",
              "screening_date             7214\n",
              "v_type_of_assessment       7214\n",
              "v_decile_score             7214\n",
              "v_score_text               7214\n",
              "v_screening_date           7214\n",
              "in_custody                 6978\n",
              "out_custody                6978\n",
              "priors_count.1             7214\n",
              "start                      7214\n",
              "end                        7214\n",
              "event                      7214\n",
              "two_year_recid             7214\n",
              "dtype: int64"
            ]
          },
          "metadata": {
            "tags": []
          },
          "execution_count": 3
        }
      ]
    },
    {
      "cell_type": "code",
      "metadata": {
        "id": "yv_Wm_B5qcSr",
        "outputId": "414c9c5c-bb2c-4b9e-c866-f9574f95d10f",
        "colab": {
          "base_uri": "https://localhost:8080/",
          "height": 361
        }
      },
      "source": [
        "#drop irrelevant columns (columns with more than 60% NaN values)\n",
        "drop_columns = ['name','first','last','c_arrest_date','r_case_number','r_charge_degree','r_days_from_arrest','r_offense_date','r_charge_desc','r_jail_in','r_jail_out','violent_recid','vr_case_number','vr_charge_degree','vr_offense_date','vr_charge_desc']\n",
        "df1.drop(drop_columns, axis=1, inplace=True)\n",
        "df1.head()"
      ],
      "execution_count": 4,
      "outputs": [
        {
          "output_type": "execute_result",
          "data": {
            "text/html": [
              "<div>\n",
              "<style scoped>\n",
              "    .dataframe tbody tr th:only-of-type {\n",
              "        vertical-align: middle;\n",
              "    }\n",
              "\n",
              "    .dataframe tbody tr th {\n",
              "        vertical-align: top;\n",
              "    }\n",
              "\n",
              "    .dataframe thead th {\n",
              "        text-align: right;\n",
              "    }\n",
              "</style>\n",
              "<table border=\"1\" class=\"dataframe\">\n",
              "  <thead>\n",
              "    <tr style=\"text-align: right;\">\n",
              "      <th></th>\n",
              "      <th>id</th>\n",
              "      <th>compas_screening_date</th>\n",
              "      <th>sex</th>\n",
              "      <th>dob</th>\n",
              "      <th>age</th>\n",
              "      <th>age_cat</th>\n",
              "      <th>race</th>\n",
              "      <th>juv_fel_count</th>\n",
              "      <th>decile_score</th>\n",
              "      <th>juv_misd_count</th>\n",
              "      <th>juv_other_count</th>\n",
              "      <th>priors_count</th>\n",
              "      <th>days_b_screening_arrest</th>\n",
              "      <th>c_jail_in</th>\n",
              "      <th>c_jail_out</th>\n",
              "      <th>c_case_number</th>\n",
              "      <th>c_offense_date</th>\n",
              "      <th>c_days_from_compas</th>\n",
              "      <th>c_charge_degree</th>\n",
              "      <th>c_charge_desc</th>\n",
              "      <th>is_recid</th>\n",
              "      <th>is_violent_recid</th>\n",
              "      <th>type_of_assessment</th>\n",
              "      <th>decile_score.1</th>\n",
              "      <th>score_text</th>\n",
              "      <th>screening_date</th>\n",
              "      <th>v_type_of_assessment</th>\n",
              "      <th>v_decile_score</th>\n",
              "      <th>v_score_text</th>\n",
              "      <th>v_screening_date</th>\n",
              "      <th>in_custody</th>\n",
              "      <th>out_custody</th>\n",
              "      <th>priors_count.1</th>\n",
              "      <th>start</th>\n",
              "      <th>end</th>\n",
              "      <th>event</th>\n",
              "      <th>two_year_recid</th>\n",
              "    </tr>\n",
              "  </thead>\n",
              "  <tbody>\n",
              "    <tr>\n",
              "      <th>0</th>\n",
              "      <td>1</td>\n",
              "      <td>2013-08-14</td>\n",
              "      <td>Male</td>\n",
              "      <td>1947-04-18</td>\n",
              "      <td>69</td>\n",
              "      <td>Greater than 45</td>\n",
              "      <td>Other</td>\n",
              "      <td>0</td>\n",
              "      <td>1</td>\n",
              "      <td>0</td>\n",
              "      <td>0</td>\n",
              "      <td>0</td>\n",
              "      <td>-1.0</td>\n",
              "      <td>2013-08-13 06:03:42</td>\n",
              "      <td>2013-08-14 05:41:20</td>\n",
              "      <td>13011352CF10A</td>\n",
              "      <td>2013-08-13</td>\n",
              "      <td>1.0</td>\n",
              "      <td>F</td>\n",
              "      <td>Aggravated Assault w/Firearm</td>\n",
              "      <td>0</td>\n",
              "      <td>0</td>\n",
              "      <td>Risk of Recidivism</td>\n",
              "      <td>1</td>\n",
              "      <td>Low</td>\n",
              "      <td>2013-08-14</td>\n",
              "      <td>Risk of Violence</td>\n",
              "      <td>1</td>\n",
              "      <td>Low</td>\n",
              "      <td>2013-08-14</td>\n",
              "      <td>2014-07-07</td>\n",
              "      <td>2014-07-14</td>\n",
              "      <td>0</td>\n",
              "      <td>0</td>\n",
              "      <td>327</td>\n",
              "      <td>0</td>\n",
              "      <td>0</td>\n",
              "    </tr>\n",
              "    <tr>\n",
              "      <th>1</th>\n",
              "      <td>3</td>\n",
              "      <td>2013-01-27</td>\n",
              "      <td>Male</td>\n",
              "      <td>1982-01-22</td>\n",
              "      <td>34</td>\n",
              "      <td>25 - 45</td>\n",
              "      <td>African-American</td>\n",
              "      <td>0</td>\n",
              "      <td>3</td>\n",
              "      <td>0</td>\n",
              "      <td>0</td>\n",
              "      <td>0</td>\n",
              "      <td>-1.0</td>\n",
              "      <td>2013-01-26 03:45:27</td>\n",
              "      <td>2013-02-05 05:36:53</td>\n",
              "      <td>13001275CF10A</td>\n",
              "      <td>2013-01-26</td>\n",
              "      <td>1.0</td>\n",
              "      <td>F</td>\n",
              "      <td>Felony Battery w/Prior Convict</td>\n",
              "      <td>1</td>\n",
              "      <td>1</td>\n",
              "      <td>Risk of Recidivism</td>\n",
              "      <td>3</td>\n",
              "      <td>Low</td>\n",
              "      <td>2013-01-27</td>\n",
              "      <td>Risk of Violence</td>\n",
              "      <td>1</td>\n",
              "      <td>Low</td>\n",
              "      <td>2013-01-27</td>\n",
              "      <td>2013-01-26</td>\n",
              "      <td>2013-02-05</td>\n",
              "      <td>0</td>\n",
              "      <td>9</td>\n",
              "      <td>159</td>\n",
              "      <td>1</td>\n",
              "      <td>1</td>\n",
              "    </tr>\n",
              "    <tr>\n",
              "      <th>2</th>\n",
              "      <td>4</td>\n",
              "      <td>2013-04-14</td>\n",
              "      <td>Male</td>\n",
              "      <td>1991-05-14</td>\n",
              "      <td>24</td>\n",
              "      <td>Less than 25</td>\n",
              "      <td>African-American</td>\n",
              "      <td>0</td>\n",
              "      <td>4</td>\n",
              "      <td>0</td>\n",
              "      <td>1</td>\n",
              "      <td>4</td>\n",
              "      <td>-1.0</td>\n",
              "      <td>2013-04-13 04:58:34</td>\n",
              "      <td>2013-04-14 07:02:04</td>\n",
              "      <td>13005330CF10A</td>\n",
              "      <td>2013-04-13</td>\n",
              "      <td>1.0</td>\n",
              "      <td>F</td>\n",
              "      <td>Possession of Cocaine</td>\n",
              "      <td>1</td>\n",
              "      <td>0</td>\n",
              "      <td>Risk of Recidivism</td>\n",
              "      <td>4</td>\n",
              "      <td>Low</td>\n",
              "      <td>2013-04-14</td>\n",
              "      <td>Risk of Violence</td>\n",
              "      <td>3</td>\n",
              "      <td>Low</td>\n",
              "      <td>2013-04-14</td>\n",
              "      <td>2013-06-16</td>\n",
              "      <td>2013-06-16</td>\n",
              "      <td>4</td>\n",
              "      <td>0</td>\n",
              "      <td>63</td>\n",
              "      <td>0</td>\n",
              "      <td>1</td>\n",
              "    </tr>\n",
              "    <tr>\n",
              "      <th>3</th>\n",
              "      <td>5</td>\n",
              "      <td>2013-01-13</td>\n",
              "      <td>Male</td>\n",
              "      <td>1993-01-21</td>\n",
              "      <td>23</td>\n",
              "      <td>Less than 25</td>\n",
              "      <td>African-American</td>\n",
              "      <td>0</td>\n",
              "      <td>8</td>\n",
              "      <td>1</td>\n",
              "      <td>0</td>\n",
              "      <td>1</td>\n",
              "      <td>NaN</td>\n",
              "      <td>NaN</td>\n",
              "      <td>NaN</td>\n",
              "      <td>13000570CF10A</td>\n",
              "      <td>2013-01-12</td>\n",
              "      <td>1.0</td>\n",
              "      <td>F</td>\n",
              "      <td>Possession of Cannabis</td>\n",
              "      <td>0</td>\n",
              "      <td>0</td>\n",
              "      <td>Risk of Recidivism</td>\n",
              "      <td>8</td>\n",
              "      <td>High</td>\n",
              "      <td>2013-01-13</td>\n",
              "      <td>Risk of Violence</td>\n",
              "      <td>6</td>\n",
              "      <td>Medium</td>\n",
              "      <td>2013-01-13</td>\n",
              "      <td>NaN</td>\n",
              "      <td>NaN</td>\n",
              "      <td>1</td>\n",
              "      <td>0</td>\n",
              "      <td>1174</td>\n",
              "      <td>0</td>\n",
              "      <td>0</td>\n",
              "    </tr>\n",
              "    <tr>\n",
              "      <th>4</th>\n",
              "      <td>6</td>\n",
              "      <td>2013-03-26</td>\n",
              "      <td>Male</td>\n",
              "      <td>1973-01-22</td>\n",
              "      <td>43</td>\n",
              "      <td>25 - 45</td>\n",
              "      <td>Other</td>\n",
              "      <td>0</td>\n",
              "      <td>1</td>\n",
              "      <td>0</td>\n",
              "      <td>0</td>\n",
              "      <td>2</td>\n",
              "      <td>NaN</td>\n",
              "      <td>NaN</td>\n",
              "      <td>NaN</td>\n",
              "      <td>12014130CF10A</td>\n",
              "      <td>NaN</td>\n",
              "      <td>76.0</td>\n",
              "      <td>F</td>\n",
              "      <td>arrest case no charge</td>\n",
              "      <td>0</td>\n",
              "      <td>0</td>\n",
              "      <td>Risk of Recidivism</td>\n",
              "      <td>1</td>\n",
              "      <td>Low</td>\n",
              "      <td>2013-03-26</td>\n",
              "      <td>Risk of Violence</td>\n",
              "      <td>1</td>\n",
              "      <td>Low</td>\n",
              "      <td>2013-03-26</td>\n",
              "      <td>NaN</td>\n",
              "      <td>NaN</td>\n",
              "      <td>2</td>\n",
              "      <td>0</td>\n",
              "      <td>1102</td>\n",
              "      <td>0</td>\n",
              "      <td>0</td>\n",
              "    </tr>\n",
              "  </tbody>\n",
              "</table>\n",
              "</div>"
            ],
            "text/plain": [
              "   id compas_screening_date   sex  ...   end  event two_year_recid\n",
              "0   1            2013-08-14  Male  ...   327      0              0\n",
              "1   3            2013-01-27  Male  ...   159      1              1\n",
              "2   4            2013-04-14  Male  ...    63      0              1\n",
              "3   5            2013-01-13  Male  ...  1174      0              0\n",
              "4   6            2013-03-26  Male  ...  1102      0              0\n",
              "\n",
              "[5 rows x 37 columns]"
            ]
          },
          "metadata": {
            "tags": []
          },
          "execution_count": 4
        }
      ]
    },
    {
      "cell_type": "code",
      "metadata": {
        "id": "hfvmPM6Arakv",
        "outputId": "0e2aa207-091f-42f8-e08b-f2b1c6645d94",
        "colab": {
          "base_uri": "https://localhost:8080/"
        }
      },
      "source": [
        "#group by age_cat variable\n",
        "counts = df1.groupby('age_cat').count().sort_index()\n",
        "print(counts)"
      ],
      "execution_count": 5,
      "outputs": [
        {
          "output_type": "stream",
          "text": [
            "                   id  compas_screening_date   sex  ...   end  event  two_year_recid\n",
            "age_cat                                             ...                             \n",
            "25 - 45          4109                   4109  4109  ...  4109   4109            4109\n",
            "Greater than 45  1576                   1576  1576  ...  1576   1576            1576\n",
            "Less than 25     1529                   1529  1529  ...  1529   1529            1529\n",
            "\n",
            "[3 rows x 36 columns]\n"
          ],
          "name": "stdout"
        }
      ]
    },
    {
      "cell_type": "code",
      "metadata": {
        "id": "7NWYBfWlrBej"
      },
      "source": [
        "#Bar graphs for some general information about the demographic distribution\n",
        "def bar_graph(df1,group_col,figsize,**kwargs):\n",
        "  counts = df.groupby(group_col)['id'].count()\n",
        "  fig, ax = plt.subplots(figsize=figsize)\n",
        "  counts.plot(kind=\"bar\", **kwargs)\n",
        "  return fig, ax"
      ],
      "execution_count": 6,
      "outputs": []
    },
    {
      "cell_type": "code",
      "metadata": {
        "id": "15wrpPPPqgZO",
        "outputId": "92207c09-9615-4058-8110-885d893e99d8",
        "colab": {
          "base_uri": "https://localhost:8080/",
          "height": 532
        }
      },
      "source": [
        "#Bar graph by age\n",
        "age = [\"Less than 25\", \"25 - 45\", \"Greater than 45\"]\n",
        "df1[\"age_cat\"] = pd.Categorical(df1[\"age_cat\"], categories=age, ordered=True)\n",
        "bar_graph(df1, \"age_cat\", (14, 8), color=\"DarkBlue\", rot=0)"
      ],
      "execution_count": 7,
      "outputs": [
        {
          "output_type": "execute_result",
          "data": {
            "text/plain": [
              "(<Figure size 1008x576 with 1 Axes>,\n",
              " <matplotlib.axes._subplots.AxesSubplot at 0x7fa4534347f0>)"
            ]
          },
          "metadata": {
            "tags": []
          },
          "execution_count": 7
        },
        {
          "output_type": "display_data",
          "data": {
            "image/png": "[encoded data removed]",
            "text/plain": [
              "<Figure size 1008x576 with 1 Axes>"
            ]
          },
          "metadata": {
            "tags": [],
            "needs_background": "light"
          }
        }
      ]
    },
    {
      "cell_type": "code",
      "metadata": {
        "id": "-sN3N6v4qgcJ",
        "outputId": "f0824be4-5e0b-4f22-a73e-b272605c1593",
        "colab": {
          "base_uri": "https://localhost:8080/",
          "height": 532
        }
      },
      "source": [
        "# Bar graph by sex\n",
        "sex = [\"Male\", \"Female\"]\n",
        "df1[\"sex\"] = pd.Categorical(df1[\"sex\"], categories=sex, ordered=True)\n",
        "bar_graph(df1, \"sex\", (6, 8), color=\"DarkBlue\", rot=0)"
      ],
      "execution_count": 8,
      "outputs": [
        {
          "output_type": "execute_result",
          "data": {
            "text/plain": [
              "(<Figure size 432x576 with 1 Axes>,\n",
              " <matplotlib.axes._subplots.AxesSubplot at 0x7fa4532d9d30>)"
            ]
          },
          "metadata": {
            "tags": []
          },
          "execution_count": 8
        },
        {
          "output_type": "display_data",
          "data": {
            "image/png": "[encoded data removed]",
            "text/plain": [
              "<Figure size 432x576 with 1 Axes>"
            ]
          },
          "metadata": {
            "tags": [],
            "needs_background": "light"
          }
        }
      ]
    },
    {
      "cell_type": "code",
      "metadata": {
        "id": "7BjCebdIqgfe",
        "outputId": "0df3aff4-570f-48bc-8018-beca06cfb5f8",
        "colab": {
          "base_uri": "https://localhost:8080/",
          "height": 532
        }
      },
      "source": [
        "#Bar graph by race\n",
        "race = [\"African-American\", \"Caucasian\", \"Hispanic\", 'Other']\n",
        "df1[\"race\"] = pd.Categorical(df1[\"race\"], categories=race, ordered=True)\n",
        "bar_graph(df1, \"race\", (12, 8), color=\"DarkBlue\", rot=0)"
      ],
      "execution_count": 9,
      "outputs": [
        {
          "output_type": "execute_result",
          "data": {
            "text/plain": [
              "(<Figure size 864x576 with 1 Axes>,\n",
              " <matplotlib.axes._subplots.AxesSubplot at 0x7fa452d91b70>)"
            ]
          },
          "metadata": {
            "tags": []
          },
          "execution_count": 9
        },
        {
          "output_type": "display_data",
          "data": {
            "image/png": "[encoded data removed]",
            "text/plain": [
              "<Figure size 864x576 with 1 Axes>"
            ]
          },
          "metadata": {
            "tags": [],
            "needs_background": "light"
          }
        }
      ]
    },
    {
      "cell_type": "code",
      "metadata": {
        "id": "0btUhxSWejGy",
        "outputId": "c99c406c-840d-4798-b952-590f895926ae",
        "colab": {
          "base_uri": "https://localhost:8080/",
          "height": 325
        }
      },
      "source": [
        "recidivism = df.groupby([\"age_cat\", \"sex\", \"race\"])[\"two_year_recid\"].mean().unstack(level=\"age_cat\")\n",
        "recidivism"
      ],
      "execution_count": 10,
      "outputs": [
        {
          "output_type": "execute_result",
          "data": {
            "text/html": [
              "<div>\n",
              "<style scoped>\n",
              "    .dataframe tbody tr th:only-of-type {\n",
              "        vertical-align: middle;\n",
              "    }\n",
              "\n",
              "    .dataframe tbody tr th {\n",
              "        vertical-align: top;\n",
              "    }\n",
              "\n",
              "    .dataframe thead th {\n",
              "        text-align: right;\n",
              "    }\n",
              "</style>\n",
              "<table border=\"1\" class=\"dataframe\">\n",
              "  <thead>\n",
              "    <tr style=\"text-align: right;\">\n",
              "      <th></th>\n",
              "      <th>age_cat</th>\n",
              "      <th>Less than 25</th>\n",
              "      <th>25 - 45</th>\n",
              "      <th>Greater than 45</th>\n",
              "    </tr>\n",
              "    <tr>\n",
              "      <th>sex</th>\n",
              "      <th>race</th>\n",
              "      <th></th>\n",
              "      <th></th>\n",
              "      <th></th>\n",
              "    </tr>\n",
              "  </thead>\n",
              "  <tbody>\n",
              "    <tr>\n",
              "      <th rowspan=\"4\" valign=\"top\">Male</th>\n",
              "      <th>African-American</th>\n",
              "      <td>0.645806</td>\n",
              "      <td>0.533074</td>\n",
              "      <td>0.425101</td>\n",
              "    </tr>\n",
              "    <tr>\n",
              "      <th>Caucasian</th>\n",
              "      <td>0.541254</td>\n",
              "      <td>0.433699</td>\n",
              "      <td>0.289157</td>\n",
              "    </tr>\n",
              "    <tr>\n",
              "      <th>Hispanic</th>\n",
              "      <td>0.536364</td>\n",
              "      <td>0.375000</td>\n",
              "      <td>0.216667</td>\n",
              "    </tr>\n",
              "    <tr>\n",
              "      <th>Other</th>\n",
              "      <td>0.552239</td>\n",
              "      <td>0.358382</td>\n",
              "      <td>0.271429</td>\n",
              "    </tr>\n",
              "    <tr>\n",
              "      <th rowspan=\"4\" valign=\"top\">Female</th>\n",
              "      <th>African-American</th>\n",
              "      <td>0.449704</td>\n",
              "      <td>0.382278</td>\n",
              "      <td>0.227273</td>\n",
              "    </tr>\n",
              "    <tr>\n",
              "      <th>Caucasian</th>\n",
              "      <td>0.310345</td>\n",
              "      <td>0.423948</td>\n",
              "      <td>0.239766</td>\n",
              "    </tr>\n",
              "    <tr>\n",
              "      <th>Hispanic</th>\n",
              "      <td>0.411765</td>\n",
              "      <td>0.333333</td>\n",
              "      <td>0.217391</td>\n",
              "    </tr>\n",
              "    <tr>\n",
              "      <th>Other</th>\n",
              "      <td>0.200000</td>\n",
              "      <td>0.243243</td>\n",
              "      <td>0.200000</td>\n",
              "    </tr>\n",
              "  </tbody>\n",
              "</table>\n",
              "</div>"
            ],
            "text/plain": [
              "age_cat                  Less than 25   25 - 45  Greater than 45\n",
              "sex    race                                                     \n",
              "Male   African-American      0.645806  0.533074         0.425101\n",
              "       Caucasian             0.541254  0.433699         0.289157\n",
              "       Hispanic              0.536364  0.375000         0.216667\n",
              "       Other                 0.552239  0.358382         0.271429\n",
              "Female African-American      0.449704  0.382278         0.227273\n",
              "       Caucasian             0.310345  0.423948         0.239766\n",
              "       Hispanic              0.411765  0.333333         0.217391\n",
              "       Other                 0.200000  0.243243         0.200000"
            ]
          },
          "metadata": {
            "tags": []
          },
          "execution_count": 10
        }
      ]
    },
    {
      "cell_type": "code",
      "metadata": {
        "id": "ZBKKOAjUejOf",
        "outputId": "e9452e24-4332-4292-ad0a-5ab721f53999",
        "colab": {
          "base_uri": "https://localhost:8080/",
          "height": 533
        }
      },
      "source": [
        "bar_graph(df1, \"decile_score\", (14, 8), color=\"DarkBlue\", rot=0)"
      ],
      "execution_count": 11,
      "outputs": [
        {
          "output_type": "execute_result",
          "data": {
            "text/plain": [
              "(<Figure size 1008x576 with 1 Axes>,\n",
              " <matplotlib.axes._subplots.AxesSubplot at 0x7fa452d7a710>)"
            ]
          },
          "metadata": {
            "tags": []
          },
          "execution_count": 11
        },
        {
          "output_type": "display_data",
          "data": {
            "image/png": "[encoded data removed]",
            "text/plain": [
              "<Figure size 1008x576 with 1 Axes>"
            ]
          },
          "metadata": {
            "tags": [],
            "needs_background": "light"
          }
        }
      ]
    },
    {
      "cell_type": "code",
      "metadata": {
        "id": "rpCO3N6gei8H",
        "outputId": "c59f2f8a-aa81-4606-f434-e0a9230e13fd",
        "colab": {
          "base_uri": "https://localhost:8080/"
        }
      },
      "source": [
        "df1.groupby(\"decile_score\")[\"two_year_recid\"].mean()"
      ],
      "execution_count": 12,
      "outputs": [
        {
          "output_type": "execute_result",
          "data": {
            "text/plain": [
              "decile_score\n",
              "1     0.213889\n",
              "2     0.311371\n",
              "3     0.376171\n",
              "4     0.434330\n",
              "5     0.478708\n",
              "6     0.558502\n",
              "7     0.591216\n",
              "8     0.683594\n",
              "9     0.698819\n",
              "10    0.772846\n",
              "Name: two_year_recid, dtype: float64"
            ]
          },
          "metadata": {
            "tags": []
          },
          "execution_count": 12
        }
      ]
    },
    {
      "cell_type": "code",
      "metadata": {
        "id": "IN4vAsNEfdEl",
        "outputId": "19ba4264-545c-4fd3-8312-367f66e252f0",
        "colab": {
          "base_uri": "https://localhost:8080/",
          "height": 110
        }
      },
      "source": [
        "#Corr between decile score and two_year_recid\n",
        "df1[[\"decile_score\", \"two_year_recid\"]].corr()"
      ],
      "execution_count": 13,
      "outputs": [
        {
          "output_type": "execute_result",
          "data": {
            "text/html": [
              "<div>\n",
              "<style scoped>\n",
              "    .dataframe tbody tr th:only-of-type {\n",
              "        vertical-align: middle;\n",
              "    }\n",
              "\n",
              "    .dataframe tbody tr th {\n",
              "        vertical-align: top;\n",
              "    }\n",
              "\n",
              "    .dataframe thead th {\n",
              "        text-align: right;\n",
              "    }\n",
              "</style>\n",
              "<table border=\"1\" class=\"dataframe\">\n",
              "  <thead>\n",
              "    <tr style=\"text-align: right;\">\n",
              "      <th></th>\n",
              "      <th>decile_score</th>\n",
              "      <th>two_year_recid</th>\n",
              "    </tr>\n",
              "  </thead>\n",
              "  <tbody>\n",
              "    <tr>\n",
              "      <th>decile_score</th>\n",
              "      <td>1.000000</td>\n",
              "      <td>0.350703</td>\n",
              "    </tr>\n",
              "    <tr>\n",
              "      <th>two_year_recid</th>\n",
              "      <td>0.350703</td>\n",
              "      <td>1.000000</td>\n",
              "    </tr>\n",
              "  </tbody>\n",
              "</table>\n",
              "</div>"
            ],
            "text/plain": [
              "                decile_score  two_year_recid\n",
              "decile_score        1.000000        0.350703\n",
              "two_year_recid      0.350703        1.000000"
            ]
          },
          "metadata": {
            "tags": []
          },
          "execution_count": 13
        }
      ]
    },
    {
      "cell_type": "code",
      "metadata": {
        "id": "LUCsWEq_fdHZ",
        "outputId": "cf31bbed-a14d-4f70-a5a1-311acc6d6f20",
        "colab": {
          "base_uri": "https://localhost:8080/",
          "height": 386
        }
      },
      "source": [
        "#rate of recidivism using decile score and race (we can see that for most part as decile score increases rate of recidivism increases)\n",
        "rate_recidivism = df.pivot_table(index=\"decile_score\", columns=\"race\", values=\"two_year_recid\")\n",
        "rate_recidivism"
      ],
      "execution_count": 14,
      "outputs": [
        {
          "output_type": "execute_result",
          "data": {
            "text/html": [
              "<div>\n",
              "<style scoped>\n",
              "    .dataframe tbody tr th:only-of-type {\n",
              "        vertical-align: middle;\n",
              "    }\n",
              "\n",
              "    .dataframe tbody tr th {\n",
              "        vertical-align: top;\n",
              "    }\n",
              "\n",
              "    .dataframe thead th {\n",
              "        text-align: right;\n",
              "    }\n",
              "</style>\n",
              "<table border=\"1\" class=\"dataframe\">\n",
              "  <thead>\n",
              "    <tr style=\"text-align: right;\">\n",
              "      <th>race</th>\n",
              "      <th>African-American</th>\n",
              "      <th>Caucasian</th>\n",
              "      <th>Hispanic</th>\n",
              "      <th>Other</th>\n",
              "    </tr>\n",
              "    <tr>\n",
              "      <th>decile_score</th>\n",
              "      <th></th>\n",
              "      <th></th>\n",
              "      <th></th>\n",
              "      <th></th>\n",
              "    </tr>\n",
              "  </thead>\n",
              "  <tbody>\n",
              "    <tr>\n",
              "      <th>1</th>\n",
              "      <td>0.228643</td>\n",
              "      <td>0.208517</td>\n",
              "      <td>0.244898</td>\n",
              "      <td>0.173333</td>\n",
              "    </tr>\n",
              "    <tr>\n",
              "      <th>2</th>\n",
              "      <td>0.302799</td>\n",
              "      <td>0.313019</td>\n",
              "      <td>0.318584</td>\n",
              "      <td>0.378788</td>\n",
              "    </tr>\n",
              "    <tr>\n",
              "      <th>3</th>\n",
              "      <td>0.419075</td>\n",
              "      <td>0.340659</td>\n",
              "      <td>0.313953</td>\n",
              "      <td>0.388889</td>\n",
              "    </tr>\n",
              "    <tr>\n",
              "      <th>4</th>\n",
              "      <td>0.459740</td>\n",
              "      <td>0.396491</td>\n",
              "      <td>0.346154</td>\n",
              "      <td>0.543478</td>\n",
              "    </tr>\n",
              "    <tr>\n",
              "      <th>5</th>\n",
              "      <td>0.482192</td>\n",
              "      <td>0.460581</td>\n",
              "      <td>0.538462</td>\n",
              "      <td>0.454545</td>\n",
              "    </tr>\n",
              "    <tr>\n",
              "      <th>6</th>\n",
              "      <td>0.559896</td>\n",
              "      <td>0.572165</td>\n",
              "      <td>0.567568</td>\n",
              "      <td>0.380952</td>\n",
              "    </tr>\n",
              "    <tr>\n",
              "      <th>7</th>\n",
              "      <td>0.592500</td>\n",
              "      <td>0.615385</td>\n",
              "      <td>0.470588</td>\n",
              "      <td>0.500000</td>\n",
              "    </tr>\n",
              "    <tr>\n",
              "      <th>8</th>\n",
              "      <td>0.682451</td>\n",
              "      <td>0.719298</td>\n",
              "      <td>0.500000</td>\n",
              "      <td>0.800000</td>\n",
              "    </tr>\n",
              "    <tr>\n",
              "      <th>9</th>\n",
              "      <td>0.707895</td>\n",
              "      <td>0.693878</td>\n",
              "      <td>0.550000</td>\n",
              "      <td>0.750000</td>\n",
              "    </tr>\n",
              "    <tr>\n",
              "      <th>10</th>\n",
              "      <td>0.793706</td>\n",
              "      <td>0.703125</td>\n",
              "      <td>0.666667</td>\n",
              "      <td>0.750000</td>\n",
              "    </tr>\n",
              "  </tbody>\n",
              "</table>\n",
              "</div>"
            ],
            "text/plain": [
              "race          African-American  Caucasian  Hispanic     Other\n",
              "decile_score                                                 \n",
              "1                     0.228643   0.208517  0.244898  0.173333\n",
              "2                     0.302799   0.313019  0.318584  0.378788\n",
              "3                     0.419075   0.340659  0.313953  0.388889\n",
              "4                     0.459740   0.396491  0.346154  0.543478\n",
              "5                     0.482192   0.460581  0.538462  0.454545\n",
              "6                     0.559896   0.572165  0.567568  0.380952\n",
              "7                     0.592500   0.615385  0.470588  0.500000\n",
              "8                     0.682451   0.719298  0.500000  0.800000\n",
              "9                     0.707895   0.693878  0.550000  0.750000\n",
              "10                    0.793706   0.703125  0.666667  0.750000"
            ]
          },
          "metadata": {
            "tags": []
          },
          "execution_count": 14
        }
      ]
    },
    {
      "cell_type": "code",
      "metadata": {
        "id": "ZA-r8xvUfdKc",
        "outputId": "de89076c-a05f-47ef-ca31-430a0be1786b",
        "colab": {
          "base_uri": "https://localhost:8080/"
        }
      },
      "source": [
        "df1.race.value_counts(dropna=False)"
      ],
      "execution_count": 15,
      "outputs": [
        {
          "output_type": "execute_result",
          "data": {
            "text/plain": [
              "African-American    3696\n",
              "Caucasian           2454\n",
              "Hispanic             637\n",
              "Other                377\n",
              "NaN                   50\n",
              "Name: race, dtype: int64"
            ]
          },
          "metadata": {
            "tags": []
          },
          "execution_count": 15
        }
      ]
    },
    {
      "cell_type": "code",
      "metadata": {
        "id": "Z9ak8gPtfdBK"
      },
      "source": [
        "values = {'race' : 'Other'}\n",
        "df1 = df1.fillna(value=values)"
      ],
      "execution_count": 16,
      "outputs": []
    },
    {
      "cell_type": "code",
      "metadata": {
        "id": "3GAGcgE1UZ7u",
        "outputId": "be0e9aa5-becd-481d-9c14-867ab66c2950",
        "colab": {
          "base_uri": "https://localhost:8080/"
        }
      },
      "source": [
        "df1.race.value_counts(dropna=False)"
      ],
      "execution_count": 17,
      "outputs": [
        {
          "output_type": "execute_result",
          "data": {
            "text/plain": [
              "African-American    3696\n",
              "Caucasian           2454\n",
              "Hispanic             637\n",
              "Other                427\n",
              "Name: race, dtype: int64"
            ]
          },
          "metadata": {
            "tags": []
          },
          "execution_count": 17
        }
      ]
    },
    {
      "cell_type": "code",
      "metadata": {
        "id": "b3uFFM6bUjrM"
      },
      "source": [
        "drop_columns1 = ['juv_fel_count','juv_misd_count','juv_other_count']\n",
        "df1.drop(drop_columns1, axis=1, inplace=True)"
      ],
      "execution_count": 18,
      "outputs": []
    },
    {
      "cell_type": "code",
      "metadata": {
        "id": "rksRfziJVd9B"
      },
      "source": [
        "df1.drop(['c_case_number'],axis=1,inplace=True)"
      ],
      "execution_count": 20,
      "outputs": []
    },
    {
      "cell_type": "code",
      "metadata": {
        "id": "DoZSxZPJYnNK",
        "outputId": "32cf15f5-00ce-4777-da57-3cac1cba059a",
        "colab": {
          "base_uri": "https://localhost:8080/"
        }
      },
      "source": [
        "df1.c_charge_degree.value_counts()"
      ],
      "execution_count": 21,
      "outputs": [
        {
          "output_type": "execute_result",
          "data": {
            "text/plain": [
              "F    4666\n",
              "M    2548\n",
              "Name: c_charge_degree, dtype: int64"
            ]
          },
          "metadata": {
            "tags": []
          },
          "execution_count": 21
        }
      ]
    },
    {
      "cell_type": "code",
      "metadata": {
        "id": "9i0lBENbw_zZ",
        "outputId": "668bcb35-a0bb-49bb-f01f-e816c272cb30",
        "colab": {
          "base_uri": "https://localhost:8080/"
        }
      },
      "source": [
        "df1.days_b_screening_arrest.value_counts()"
      ],
      "execution_count": 22,
      "outputs": [
        {
          "output_type": "execute_result",
          "data": {
            "text/plain": [
              "-1.0      3980\n",
              " 0.0      1379\n",
              "-2.0       150\n",
              "-3.0        96\n",
              "-4.0        63\n",
              "          ... \n",
              " 90.0        1\n",
              " 336.0       1\n",
              "-118.0       1\n",
              " 17.0        1\n",
              " 657.0       1\n",
              "Name: days_b_screening_arrest, Length: 423, dtype: int64"
            ]
          },
          "metadata": {
            "tags": []
          },
          "execution_count": 22
        }
      ]
    },
    {
      "cell_type": "code",
      "metadata": {
        "id": "4Dpdu6q3x2pH",
        "outputId": "c81b7bbc-18dd-4c22-8f34-92affe3165a5",
        "colab": {
          "base_uri": "https://localhost:8080/"
        }
      },
      "source": [
        "df1.c_charge_desc.value_counts()"
      ],
      "execution_count": 23,
      "outputs": [
        {
          "output_type": "execute_result",
          "data": {
            "text/plain": [
              "Battery                           1156\n",
              "arrest case no charge             1137\n",
              "Possession of Cocaine              474\n",
              "Grand Theft in the 3rd Degree      425\n",
              "Driving While License Revoked      200\n",
              "                                  ... \n",
              "Possess w/I/Utter Forged Bills       1\n",
              "Possession Of Buprenorphine          1\n",
              "Unlaw Lic Use/Disply Of Others       1\n",
              "Del Morphine at/near Park            1\n",
              "Carjacking with a Firearm            1\n",
              "Name: c_charge_desc, Length: 437, dtype: int64"
            ]
          },
          "metadata": {
            "tags": []
          },
          "execution_count": 23
        }
      ]
    },
    {
      "cell_type": "code",
      "metadata": {
        "id": "fm9DkdbJEAqo",
        "outputId": "e2c76c47-ea11-432a-9352-2fa82824a010",
        "colab": {
          "base_uri": "https://localhost:8080/"
        }
      },
      "source": [
        "df1.type_of_assessment.value_counts()"
      ],
      "execution_count": 24,
      "outputs": [
        {
          "output_type": "execute_result",
          "data": {
            "text/plain": [
              "Risk of Recidivism    7214\n",
              "Name: type_of_assessment, dtype: int64"
            ]
          },
          "metadata": {
            "tags": []
          },
          "execution_count": 24
        }
      ]
    },
    {
      "cell_type": "code",
      "metadata": {
        "id": "rnoUXJp4FAyM"
      },
      "source": [
        "df1.drop(['type_of_assessment'],axis=1,inplace=True)"
      ],
      "execution_count": 25,
      "outputs": []
    },
    {
      "cell_type": "code",
      "metadata": {
        "id": "MDQEgsdCFJ26"
      },
      "source": [
        "df1.drop(['v_type_of_assessment'],axis=1,inplace=True)"
      ],
      "execution_count": 26,
      "outputs": []
    },
    {
      "cell_type": "code",
      "metadata": {
        "id": "fOBjZgL6Gr-u"
      },
      "source": [
        "drop_columns3 = ['compas_screening_date','c_days_from_compas','is_recid','is_violent_recid','decile_score.1','v_decile_score','v_score_text','v_screening_date','priors_count.1']\n",
        "df1.drop(drop_columns3,axis=1,inplace=True)"
      ],
      "execution_count": 27,
      "outputs": []
    },
    {
      "cell_type": "code",
      "metadata": {
        "id": "8EokLrvmKZx3"
      },
      "source": [
        "df1.dropna(subset = [\"c_jail_in\"], inplace=True)"
      ],
      "execution_count": 28,
      "outputs": []
    },
    {
      "cell_type": "code",
      "metadata": {
        "id": "vteWcXo9KZvr"
      },
      "source": [
        "df1.dropna(subset = [\"c_charge_desc\"], inplace=True)"
      ],
      "execution_count": 29,
      "outputs": []
    },
    {
      "cell_type": "code",
      "metadata": {
        "id": "hGzUKn4hL4Yx",
        "outputId": "58dd1150-6882-4915-981e-0f864a8ed536",
        "colab": {
          "base_uri": "https://localhost:8080/"
        }
      },
      "source": [
        "df1.count()"
      ],
      "execution_count": 35,
      "outputs": [
        {
          "output_type": "execute_result",
          "data": {
            "text/plain": [
              "id                         6900\n",
              "sex                        6900\n",
              "dob                        6900\n",
              "age                        6900\n",
              "age_cat                    6900\n",
              "race                       6900\n",
              "decile_score               6900\n",
              "priors_count               6900\n",
              "days_b_screening_arrest    6900\n",
              "c_jail_in                  6900\n",
              "c_jail_out                 6900\n",
              "c_charge_degree            6900\n",
              "c_charge_desc              6900\n",
              "score_text                 6900\n",
              "screening_date             6900\n",
              "in_custody                 6900\n",
              "out_custody                6900\n",
              "start                      6900\n",
              "end                        6900\n",
              "event                      6900\n",
              "two_year_recid             6900\n",
              "dtype: int64"
            ]
          },
          "metadata": {
            "tags": []
          },
          "execution_count": 35
        }
      ]
    },
    {
      "cell_type": "code",
      "metadata": {
        "id": "kXw3e8IlL5aS",
        "outputId": "1126a218-6257-413f-9c0a-d230e91f2c3f",
        "colab": {
          "base_uri": "https://localhost:8080/"
        }
      },
      "source": [
        "#final check for NaN values in df1\n",
        "df1.isnull().values.any()"
      ],
      "execution_count": 36,
      "outputs": [
        {
          "output_type": "execute_result",
          "data": {
            "text/plain": [
              "False"
            ]
          },
          "metadata": {
            "tags": []
          },
          "execution_count": 36
        }
      ]
    },
    {
      "cell_type": "code",
      "metadata": {
        "id": "f8y29pngMKd6"
      },
      "source": [
        "df1.drop(['id'],axis=1,inplace=True)"
      ],
      "execution_count": 37,
      "outputs": []
    },
    {
      "cell_type": "code",
      "metadata": {
        "id": "VfGFXfI1Mqdl"
      },
      "source": [
        "one_hot_df1_sex = pd.get_dummies(df1.sex)\n",
        "df1 = pd.concat([df1, one_hot_df1_sex], axis=1, sort=False)\n",
        "df1.drop(['sex'], axis=1, inplace=True)"
      ],
      "execution_count": 38,
      "outputs": []
    },
    {
      "cell_type": "code",
      "metadata": {
        "id": "PjCNTSjROxcv"
      },
      "source": [
        "one_hot_df1_race = pd.get_dummies(df1.race)\n",
        "df1 = pd.concat([df1, one_hot_df1_race], axis=1, sort=False)\n",
        "df1.drop(['race'], axis=1, inplace=True)"
      ],
      "execution_count": 39,
      "outputs": []
    },
    {
      "cell_type": "code",
      "metadata": {
        "id": "3nq6XeH2Oy7r"
      },
      "source": [
        "one_hot_df1_cchargedegree = pd.get_dummies(df1.c_charge_degree)\n",
        "df1 = pd.concat([df1, one_hot_df1_cchargedegree], axis=1, sort=False)\n",
        "df1.drop(['c_charge_degree'], axis=1, inplace=True)"
      ],
      "execution_count": 40,
      "outputs": []
    },
    {
      "cell_type": "code",
      "metadata": {
        "id": "TT8wnLGgPwNX"
      },
      "source": [
        "df1.drop(['dob'],axis=1,inplace=True)"
      ],
      "execution_count": 41,
      "outputs": []
    },
    {
      "cell_type": "code",
      "metadata": {
        "id": "uFcqe_VMWiKe",
        "outputId": "459efdd5-11af-4d81-dbb5-117a71194d03",
        "colab": {
          "base_uri": "https://localhost:8080/"
        }
      },
      "source": [
        "df1.dtypes"
      ],
      "execution_count": 42,
      "outputs": [
        {
          "output_type": "execute_result",
          "data": {
            "text/plain": [
              "age                           int64\n",
              "age_cat                    category\n",
              "decile_score                  int64\n",
              "priors_count                  int64\n",
              "days_b_screening_arrest     float64\n",
              "c_jail_in                    object\n",
              "c_jail_out                   object\n",
              "c_charge_desc                object\n",
              "score_text                   object\n",
              "screening_date               object\n",
              "in_custody                   object\n",
              "out_custody                  object\n",
              "start                         int64\n",
              "end                           int64\n",
              "event                         int64\n",
              "two_year_recid                int64\n",
              "Male                          uint8\n",
              "Female                        uint8\n",
              "African-American              uint8\n",
              "Caucasian                     uint8\n",
              "Hispanic                      uint8\n",
              "Other                         uint8\n",
              "F                             uint8\n",
              "M                             uint8\n",
              "dtype: object"
            ]
          },
          "metadata": {
            "tags": []
          },
          "execution_count": 42
        }
      ]
    },
    {
      "cell_type": "code",
      "metadata": {
        "id": "VBjGPjvmR4dt"
      },
      "source": [
        "df1['c_jail_in'] = pd.to_datetime(df1.c_jail_in).astype('int')/(10**9)"
      ],
      "execution_count": 43,
      "outputs": []
    },
    {
      "cell_type": "code",
      "metadata": {
        "id": "A0RSzP-kTN3y"
      },
      "source": [
        "df1['c_jail_out'] = pd.to_datetime(df1.c_jail_out).astype('int')/(10**9)"
      ],
      "execution_count": 44,
      "outputs": []
    },
    {
      "cell_type": "code",
      "metadata": {
        "id": "oskZaBiHSwOq",
        "outputId": "80fcb8da-30ad-4226-a2da-17120b85d9bb",
        "colab": {
          "base_uri": "https://localhost:8080/"
        }
      },
      "source": [
        "df1.dtypes"
      ],
      "execution_count": 45,
      "outputs": [
        {
          "output_type": "execute_result",
          "data": {
            "text/plain": [
              "age                           int64\n",
              "age_cat                    category\n",
              "decile_score                  int64\n",
              "priors_count                  int64\n",
              "days_b_screening_arrest     float64\n",
              "c_jail_in                   float64\n",
              "c_jail_out                  float64\n",
              "c_charge_desc                object\n",
              "score_text                   object\n",
              "screening_date               object\n",
              "in_custody                   object\n",
              "out_custody                  object\n",
              "start                         int64\n",
              "end                           int64\n",
              "event                         int64\n",
              "two_year_recid                int64\n",
              "Male                          uint8\n",
              "Female                        uint8\n",
              "African-American              uint8\n",
              "Caucasian                     uint8\n",
              "Hispanic                      uint8\n",
              "Other                         uint8\n",
              "F                             uint8\n",
              "M                             uint8\n",
              "dtype: object"
            ]
          },
          "metadata": {
            "tags": []
          },
          "execution_count": 45
        }
      ]
    },
    {
      "cell_type": "code",
      "metadata": {
        "id": "snXK91yHTB-k"
      },
      "source": [
        "df1['time_in_jail'] = df1['c_jail_out'] - df1['c_jail_in']"
      ],
      "execution_count": 46,
      "outputs": []
    },
    {
      "cell_type": "code",
      "metadata": {
        "id": "t7D3FA6qTemV",
        "outputId": "c0c86b0b-2050-4482-faa2-851ad7ef24d3",
        "colab": {
          "base_uri": "https://localhost:8080/",
          "height": 326
        }
      },
      "source": [
        "df1.head()"
      ],
      "execution_count": 47,
      "outputs": [
        {
          "output_type": "execute_result",
          "data": {
            "text/html": [
              "<div>\n",
              "<style scoped>\n",
              "    .dataframe tbody tr th:only-of-type {\n",
              "        vertical-align: middle;\n",
              "    }\n",
              "\n",
              "    .dataframe tbody tr th {\n",
              "        vertical-align: top;\n",
              "    }\n",
              "\n",
              "    .dataframe thead th {\n",
              "        text-align: right;\n",
              "    }\n",
              "</style>\n",
              "<table border=\"1\" class=\"dataframe\">\n",
              "  <thead>\n",
              "    <tr style=\"text-align: right;\">\n",
              "      <th></th>\n",
              "      <th>age</th>\n",
              "      <th>age_cat</th>\n",
              "      <th>decile_score</th>\n",
              "      <th>priors_count</th>\n",
              "      <th>days_b_screening_arrest</th>\n",
              "      <th>c_jail_in</th>\n",
              "      <th>c_jail_out</th>\n",
              "      <th>c_charge_desc</th>\n",
              "      <th>score_text</th>\n",
              "      <th>screening_date</th>\n",
              "      <th>in_custody</th>\n",
              "      <th>out_custody</th>\n",
              "      <th>start</th>\n",
              "      <th>end</th>\n",
              "      <th>event</th>\n",
              "      <th>two_year_recid</th>\n",
              "      <th>Male</th>\n",
              "      <th>Female</th>\n",
              "      <th>African-American</th>\n",
              "      <th>Caucasian</th>\n",
              "      <th>Hispanic</th>\n",
              "      <th>Other</th>\n",
              "      <th>F</th>\n",
              "      <th>M</th>\n",
              "      <th>time_in_jail</th>\n",
              "    </tr>\n",
              "  </thead>\n",
              "  <tbody>\n",
              "    <tr>\n",
              "      <th>0</th>\n",
              "      <td>69</td>\n",
              "      <td>Greater than 45</td>\n",
              "      <td>1</td>\n",
              "      <td>0</td>\n",
              "      <td>-1.0</td>\n",
              "      <td>1.376374e+09</td>\n",
              "      <td>1.376459e+09</td>\n",
              "      <td>Aggravated Assault w/Firearm</td>\n",
              "      <td>Low</td>\n",
              "      <td>2013-08-14</td>\n",
              "      <td>2014-07-07</td>\n",
              "      <td>2014-07-14</td>\n",
              "      <td>0</td>\n",
              "      <td>327</td>\n",
              "      <td>0</td>\n",
              "      <td>0</td>\n",
              "      <td>1</td>\n",
              "      <td>0</td>\n",
              "      <td>0</td>\n",
              "      <td>0</td>\n",
              "      <td>0</td>\n",
              "      <td>1</td>\n",
              "      <td>1</td>\n",
              "      <td>0</td>\n",
              "      <td>85058.0</td>\n",
              "    </tr>\n",
              "    <tr>\n",
              "      <th>1</th>\n",
              "      <td>34</td>\n",
              "      <td>25 - 45</td>\n",
              "      <td>3</td>\n",
              "      <td>0</td>\n",
              "      <td>-1.0</td>\n",
              "      <td>1.359172e+09</td>\n",
              "      <td>1.360043e+09</td>\n",
              "      <td>Felony Battery w/Prior Convict</td>\n",
              "      <td>Low</td>\n",
              "      <td>2013-01-27</td>\n",
              "      <td>2013-01-26</td>\n",
              "      <td>2013-02-05</td>\n",
              "      <td>9</td>\n",
              "      <td>159</td>\n",
              "      <td>1</td>\n",
              "      <td>1</td>\n",
              "      <td>1</td>\n",
              "      <td>0</td>\n",
              "      <td>1</td>\n",
              "      <td>0</td>\n",
              "      <td>0</td>\n",
              "      <td>0</td>\n",
              "      <td>1</td>\n",
              "      <td>0</td>\n",
              "      <td>870686.0</td>\n",
              "    </tr>\n",
              "    <tr>\n",
              "      <th>2</th>\n",
              "      <td>24</td>\n",
              "      <td>Less than 25</td>\n",
              "      <td>4</td>\n",
              "      <td>4</td>\n",
              "      <td>-1.0</td>\n",
              "      <td>1.365829e+09</td>\n",
              "      <td>1.365923e+09</td>\n",
              "      <td>Possession of Cocaine</td>\n",
              "      <td>Low</td>\n",
              "      <td>2013-04-14</td>\n",
              "      <td>2013-06-16</td>\n",
              "      <td>2013-06-16</td>\n",
              "      <td>0</td>\n",
              "      <td>63</td>\n",
              "      <td>0</td>\n",
              "      <td>1</td>\n",
              "      <td>1</td>\n",
              "      <td>0</td>\n",
              "      <td>1</td>\n",
              "      <td>0</td>\n",
              "      <td>0</td>\n",
              "      <td>0</td>\n",
              "      <td>1</td>\n",
              "      <td>0</td>\n",
              "      <td>93810.0</td>\n",
              "    </tr>\n",
              "    <tr>\n",
              "      <th>5</th>\n",
              "      <td>44</td>\n",
              "      <td>25 - 45</td>\n",
              "      <td>1</td>\n",
              "      <td>0</td>\n",
              "      <td>0.0</td>\n",
              "      <td>1.385787e+09</td>\n",
              "      <td>1.385901e+09</td>\n",
              "      <td>Battery</td>\n",
              "      <td>Low</td>\n",
              "      <td>2013-11-30</td>\n",
              "      <td>2013-11-30</td>\n",
              "      <td>2013-12-01</td>\n",
              "      <td>1</td>\n",
              "      <td>853</td>\n",
              "      <td>0</td>\n",
              "      <td>0</td>\n",
              "      <td>1</td>\n",
              "      <td>0</td>\n",
              "      <td>0</td>\n",
              "      <td>0</td>\n",
              "      <td>0</td>\n",
              "      <td>1</td>\n",
              "      <td>0</td>\n",
              "      <td>1</td>\n",
              "      <td>113918.0</td>\n",
              "    </tr>\n",
              "    <tr>\n",
              "      <th>6</th>\n",
              "      <td>41</td>\n",
              "      <td>25 - 45</td>\n",
              "      <td>6</td>\n",
              "      <td>14</td>\n",
              "      <td>-1.0</td>\n",
              "      <td>1.392700e+09</td>\n",
              "      <td>1.393244e+09</td>\n",
              "      <td>Possession Burglary Tools</td>\n",
              "      <td>Medium</td>\n",
              "      <td>2014-02-19</td>\n",
              "      <td>2014-03-31</td>\n",
              "      <td>2014-04-18</td>\n",
              "      <td>5</td>\n",
              "      <td>40</td>\n",
              "      <td>1</td>\n",
              "      <td>1</td>\n",
              "      <td>1</td>\n",
              "      <td>0</td>\n",
              "      <td>0</td>\n",
              "      <td>1</td>\n",
              "      <td>0</td>\n",
              "      <td>0</td>\n",
              "      <td>1</td>\n",
              "      <td>0</td>\n",
              "      <td>544206.0</td>\n",
              "    </tr>\n",
              "  </tbody>\n",
              "</table>\n",
              "</div>"
            ],
            "text/plain": [
              "   age          age_cat  decile_score  priors_count  ...  Other  F  M time_in_jail\n",
              "0   69  Greater than 45             1             0  ...      1  1  0      85058.0\n",
              "1   34          25 - 45             3             0  ...      0  1  0     870686.0\n",
              "2   24     Less than 25             4             4  ...      0  1  0      93810.0\n",
              "5   44          25 - 45             1             0  ...      1  0  1     113918.0\n",
              "6   41          25 - 45             6            14  ...      0  1  0     544206.0\n",
              "\n",
              "[5 rows x 25 columns]"
            ]
          },
          "metadata": {
            "tags": []
          },
          "execution_count": 47
        }
      ]
    },
    {
      "cell_type": "code",
      "metadata": {
        "id": "tAW5LhywTgQr"
      },
      "source": [
        "#df3 = df1"
      ],
      "execution_count": null,
      "outputs": []
    },
    {
      "cell_type": "code",
      "metadata": {
        "id": "tDeNiVVOUYjw"
      },
      "source": [
        "df1.drop(['c_jail_in','c_jail_out'], axis=1, inplace = True)"
      ],
      "execution_count": 48,
      "outputs": []
    },
    {
      "cell_type": "code",
      "metadata": {
        "id": "vQmjjsKiUp7V"
      },
      "source": [
        "df1['in_custody'] = pd.to_datetime(df1.in_custody).astype('int')/(10**9)"
      ],
      "execution_count": 49,
      "outputs": []
    },
    {
      "cell_type": "code",
      "metadata": {
        "id": "f0Uf6gnjU38c"
      },
      "source": [
        "df1['out_custody'] = pd.to_datetime(df1.out_custody).astype('int')/(10**9)"
      ],
      "execution_count": 50,
      "outputs": []
    },
    {
      "cell_type": "code",
      "metadata": {
        "id": "L6QlFK4tVCj0"
      },
      "source": [
        "df1['time_in_custody'] = df1['out_custody'] - df1['in_custody']"
      ],
      "execution_count": 51,
      "outputs": []
    },
    {
      "cell_type": "code",
      "metadata": {
        "id": "fEmQBdYPVNb5"
      },
      "source": [
        "df1.drop(['in_custody','out_custody'], axis=1, inplace = True)"
      ],
      "execution_count": 52,
      "outputs": []
    },
    {
      "cell_type": "code",
      "metadata": {
        "id": "z68JPMHbVo2W"
      },
      "source": [
        "df1['screening_date'] = pd.to_datetime(df1.screening_date).astype('int')/(10**9)"
      ],
      "execution_count": 53,
      "outputs": []
    },
    {
      "cell_type": "code",
      "metadata": {
        "id": "9VCmay07V5IE",
        "outputId": "d2f30af7-f95c-4178-c645-789617950ec1",
        "colab": {
          "base_uri": "https://localhost:8080/"
        }
      },
      "source": [
        "df1.dtypes"
      ],
      "execution_count": 54,
      "outputs": [
        {
          "output_type": "execute_result",
          "data": {
            "text/plain": [
              "age                           int64\n",
              "age_cat                    category\n",
              "decile_score                  int64\n",
              "priors_count                  int64\n",
              "days_b_screening_arrest     float64\n",
              "c_charge_desc                object\n",
              "score_text                   object\n",
              "screening_date              float64\n",
              "start                         int64\n",
              "end                           int64\n",
              "event                         int64\n",
              "two_year_recid                int64\n",
              "Male                          uint8\n",
              "Female                        uint8\n",
              "African-American              uint8\n",
              "Caucasian                     uint8\n",
              "Hispanic                      uint8\n",
              "Other                         uint8\n",
              "F                             uint8\n",
              "M                             uint8\n",
              "time_in_jail                float64\n",
              "time_in_custody             float64\n",
              "dtype: object"
            ]
          },
          "metadata": {
            "tags": []
          },
          "execution_count": 54
        }
      ]
    },
    {
      "cell_type": "code",
      "metadata": {
        "id": "egejRN4iV64Y",
        "outputId": "d1fe4cf1-b1fc-439e-c46a-db5d1aab851c",
        "colab": {
          "base_uri": "https://localhost:8080/",
          "height": 493
        }
      },
      "source": [
        "bar_graph(df1, \"age\", (16, 8), color=\"DarkBlue\", rot=0)"
      ],
      "execution_count": 55,
      "outputs": [
        {
          "output_type": "execute_result",
          "data": {
            "text/plain": [
              "(<Figure size 1152x576 with 1 Axes>,\n",
              " <matplotlib.axes._subplots.AxesSubplot at 0x7fa451713668>)"
            ]
          },
          "metadata": {
            "tags": []
          },
          "execution_count": 55
        },
        {
          "output_type": "display_data",
          "data": {
            "image/png": "[encoded data removed]",
            "text/plain": [
              "<Figure size 1152x576 with 1 Axes>"
            ]
          },
          "metadata": {
            "tags": [],
            "needs_background": "light"
          }
        }
      ]
    },
    {
      "cell_type": "code",
      "metadata": {
        "id": "1xmfs42vWR-7",
        "outputId": "cb643f11-00c6-409c-f953-ed91644b7486",
        "colab": {
          "base_uri": "https://localhost:8080/"
        }
      },
      "source": [
        "is_1 = df1['two_year_recid'] == 1\n",
        "df1[is_1].age.value_counts()"
      ],
      "execution_count": 56,
      "outputs": [
        {
          "output_type": "execute_result",
          "data": {
            "text/plain": [
              "24    181\n",
              "21    178\n",
              "27    176\n",
              "26    166\n",
              "22    165\n",
              "25    163\n",
              "23    161\n",
              "30    145\n",
              "29    142\n",
              "28    136\n",
              "20    131\n",
              "31    124\n",
              "32    104\n",
              "33     99\n",
              "34     88\n",
              "36     76\n",
              "37     70\n",
              "35     66\n",
              "38     57\n",
              "39     48\n",
              "43     47\n",
              "41     45\n",
              "44     40\n",
              "47     39\n",
              "51     39\n",
              "46     38\n",
              "50     37\n",
              "45     36\n",
              "52     35\n",
              "42     35\n",
              "19     33\n",
              "48     31\n",
              "40     30\n",
              "49     28\n",
              "55     25\n",
              "54     23\n",
              "56     21\n",
              "53     21\n",
              "59     19\n",
              "57     18\n",
              "58     17\n",
              "61     12\n",
              "60      8\n",
              "66      6\n",
              "63      6\n",
              "69      5\n",
              "62      5\n",
              "65      4\n",
              "64      4\n",
              "67      3\n",
              "18      3\n",
              "77      1\n",
              "68      1\n",
              "70      1\n",
              "78      1\n",
              "75      1\n",
              "96      1\n",
              "Name: age, dtype: int64"
            ]
          },
          "metadata": {
            "tags": []
          },
          "execution_count": 56
        }
      ]
    },
    {
      "cell_type": "code",
      "metadata": {
        "id": "p-i6r3DWZRFw"
      },
      "source": [
        "df1.drop(['age'],axis=1,inplace=True)"
      ],
      "execution_count": 57,
      "outputs": []
    },
    {
      "cell_type": "code",
      "metadata": {
        "id": "RmnSv_vbZfCs"
      },
      "source": [
        "one_hot_df1_agecat = pd.get_dummies(df1.age_cat)\n",
        "df1 = pd.concat([df1, one_hot_df1_agecat], axis=1, sort=False)\n",
        "df1.drop(['age_cat'], axis=1, inplace=True)"
      ],
      "execution_count": 58,
      "outputs": []
    },
    {
      "cell_type": "code",
      "metadata": {
        "id": "Z704vJPTZ17h"
      },
      "source": [
        "one_hot_df1_scoretext = pd.get_dummies(df1.score_text)\n",
        "df1 = pd.concat([df1, one_hot_df1_scoretext], axis=1, sort=False)\n",
        "df1.drop(['score_text'], axis=1, inplace=True)\n",
        "df1.drop(['decile_score'], axis=1, inplace=True)"
      ],
      "execution_count": 60,
      "outputs": []
    },
    {
      "cell_type": "code",
      "metadata": {
        "id": "6O8LTLlPa4q9"
      },
      "source": [
        "#df1.c_charge_desc = df1.c_charge_desc.fillna(\"\")\n",
        "df1[\"charge_cat\"] = df1.c_charge_desc\n",
        "cnt = df1.c_charge_desc.value_counts()[df1.c_charge_desc]\n",
        "#print(cnt)\n",
        "cnt.index = df1.index\n",
        "df1.loc[cnt<10,\"charge_cat\"] = \"other\"\n",
        "df1.charge_cat = df1.charge_cat.astype('category')"
      ],
      "execution_count": 62,
      "outputs": []
    },
    {
      "cell_type": "code",
      "metadata": {
        "id": "UerK7NLubbB1",
        "outputId": "46974c9c-dada-4fa6-dacb-502bf46d6ffa",
        "colab": {
          "base_uri": "https://localhost:8080/",
          "height": 395
        }
      },
      "source": [
        "df1.head()"
      ],
      "execution_count": 63,
      "outputs": [
        {
          "output_type": "execute_result",
          "data": {
            "text/html": [
              "<div>\n",
              "<style scoped>\n",
              "    .dataframe tbody tr th:only-of-type {\n",
              "        vertical-align: middle;\n",
              "    }\n",
              "\n",
              "    .dataframe tbody tr th {\n",
              "        vertical-align: top;\n",
              "    }\n",
              "\n",
              "    .dataframe thead th {\n",
              "        text-align: right;\n",
              "    }\n",
              "</style>\n",
              "<table border=\"1\" class=\"dataframe\">\n",
              "  <thead>\n",
              "    <tr style=\"text-align: right;\">\n",
              "      <th></th>\n",
              "      <th>priors_count</th>\n",
              "      <th>days_b_screening_arrest</th>\n",
              "      <th>c_charge_desc</th>\n",
              "      <th>screening_date</th>\n",
              "      <th>start</th>\n",
              "      <th>end</th>\n",
              "      <th>event</th>\n",
              "      <th>two_year_recid</th>\n",
              "      <th>Male</th>\n",
              "      <th>Female</th>\n",
              "      <th>African-American</th>\n",
              "      <th>Caucasian</th>\n",
              "      <th>Hispanic</th>\n",
              "      <th>Other</th>\n",
              "      <th>F</th>\n",
              "      <th>M</th>\n",
              "      <th>time_in_jail</th>\n",
              "      <th>time_in_custody</th>\n",
              "      <th>Less than 25</th>\n",
              "      <th>25 - 45</th>\n",
              "      <th>Greater than 45</th>\n",
              "      <th>High</th>\n",
              "      <th>Low</th>\n",
              "      <th>Medium</th>\n",
              "      <th>charge_cat</th>\n",
              "    </tr>\n",
              "  </thead>\n",
              "  <tbody>\n",
              "    <tr>\n",
              "      <th>0</th>\n",
              "      <td>0</td>\n",
              "      <td>-1.0</td>\n",
              "      <td>Aggravated Assault w/Firearm</td>\n",
              "      <td>1.376438e+09</td>\n",
              "      <td>0</td>\n",
              "      <td>327</td>\n",
              "      <td>0</td>\n",
              "      <td>0</td>\n",
              "      <td>1</td>\n",
              "      <td>0</td>\n",
              "      <td>0</td>\n",
              "      <td>0</td>\n",
              "      <td>0</td>\n",
              "      <td>1</td>\n",
              "      <td>1</td>\n",
              "      <td>0</td>\n",
              "      <td>85058.0</td>\n",
              "      <td>604800.0</td>\n",
              "      <td>0</td>\n",
              "      <td>0</td>\n",
              "      <td>1</td>\n",
              "      <td>0</td>\n",
              "      <td>1</td>\n",
              "      <td>0</td>\n",
              "      <td>Aggravated Assault w/Firearm</td>\n",
              "    </tr>\n",
              "    <tr>\n",
              "      <th>1</th>\n",
              "      <td>0</td>\n",
              "      <td>-1.0</td>\n",
              "      <td>Felony Battery w/Prior Convict</td>\n",
              "      <td>1.359245e+09</td>\n",
              "      <td>9</td>\n",
              "      <td>159</td>\n",
              "      <td>1</td>\n",
              "      <td>1</td>\n",
              "      <td>1</td>\n",
              "      <td>0</td>\n",
              "      <td>1</td>\n",
              "      <td>0</td>\n",
              "      <td>0</td>\n",
              "      <td>0</td>\n",
              "      <td>1</td>\n",
              "      <td>0</td>\n",
              "      <td>870686.0</td>\n",
              "      <td>864000.0</td>\n",
              "      <td>0</td>\n",
              "      <td>1</td>\n",
              "      <td>0</td>\n",
              "      <td>0</td>\n",
              "      <td>1</td>\n",
              "      <td>0</td>\n",
              "      <td>Felony Battery w/Prior Convict</td>\n",
              "    </tr>\n",
              "    <tr>\n",
              "      <th>2</th>\n",
              "      <td>4</td>\n",
              "      <td>-1.0</td>\n",
              "      <td>Possession of Cocaine</td>\n",
              "      <td>1.365898e+09</td>\n",
              "      <td>0</td>\n",
              "      <td>63</td>\n",
              "      <td>0</td>\n",
              "      <td>1</td>\n",
              "      <td>1</td>\n",
              "      <td>0</td>\n",
              "      <td>1</td>\n",
              "      <td>0</td>\n",
              "      <td>0</td>\n",
              "      <td>0</td>\n",
              "      <td>1</td>\n",
              "      <td>0</td>\n",
              "      <td>93810.0</td>\n",
              "      <td>0.0</td>\n",
              "      <td>1</td>\n",
              "      <td>0</td>\n",
              "      <td>0</td>\n",
              "      <td>0</td>\n",
              "      <td>1</td>\n",
              "      <td>0</td>\n",
              "      <td>Possession of Cocaine</td>\n",
              "    </tr>\n",
              "    <tr>\n",
              "      <th>5</th>\n",
              "      <td>0</td>\n",
              "      <td>0.0</td>\n",
              "      <td>Battery</td>\n",
              "      <td>1.385770e+09</td>\n",
              "      <td>1</td>\n",
              "      <td>853</td>\n",
              "      <td>0</td>\n",
              "      <td>0</td>\n",
              "      <td>1</td>\n",
              "      <td>0</td>\n",
              "      <td>0</td>\n",
              "      <td>0</td>\n",
              "      <td>0</td>\n",
              "      <td>1</td>\n",
              "      <td>0</td>\n",
              "      <td>1</td>\n",
              "      <td>113918.0</td>\n",
              "      <td>86400.0</td>\n",
              "      <td>0</td>\n",
              "      <td>1</td>\n",
              "      <td>0</td>\n",
              "      <td>0</td>\n",
              "      <td>1</td>\n",
              "      <td>0</td>\n",
              "      <td>Battery</td>\n",
              "    </tr>\n",
              "    <tr>\n",
              "      <th>6</th>\n",
              "      <td>14</td>\n",
              "      <td>-1.0</td>\n",
              "      <td>Possession Burglary Tools</td>\n",
              "      <td>1.392768e+09</td>\n",
              "      <td>5</td>\n",
              "      <td>40</td>\n",
              "      <td>1</td>\n",
              "      <td>1</td>\n",
              "      <td>1</td>\n",
              "      <td>0</td>\n",
              "      <td>0</td>\n",
              "      <td>1</td>\n",
              "      <td>0</td>\n",
              "      <td>0</td>\n",
              "      <td>1</td>\n",
              "      <td>0</td>\n",
              "      <td>544206.0</td>\n",
              "      <td>1555200.0</td>\n",
              "      <td>0</td>\n",
              "      <td>1</td>\n",
              "      <td>0</td>\n",
              "      <td>0</td>\n",
              "      <td>0</td>\n",
              "      <td>1</td>\n",
              "      <td>Possession Burglary Tools</td>\n",
              "    </tr>\n",
              "  </tbody>\n",
              "</table>\n",
              "</div>"
            ],
            "text/plain": [
              "   priors_count  ...                      charge_cat\n",
              "0             0  ...    Aggravated Assault w/Firearm\n",
              "1             0  ...  Felony Battery w/Prior Convict\n",
              "2             4  ...           Possession of Cocaine\n",
              "5             0  ...                         Battery\n",
              "6            14  ...       Possession Burglary Tools\n",
              "\n",
              "[5 rows x 25 columns]"
            ]
          },
          "metadata": {
            "tags": []
          },
          "execution_count": 63
        }
      ]
    },
    {
      "cell_type": "code",
      "metadata": {
        "id": "vm8ZsLYxDYVV",
        "outputId": "9b1afbe3-a06e-4c57-c3ad-1c33c707db53",
        "colab": {
          "base_uri": "https://localhost:8080/"
        }
      },
      "source": [
        "df1.charge_cat.value_counts()"
      ],
      "execution_count": 64,
      "outputs": [
        {
          "output_type": "execute_result",
          "data": {
            "text/plain": [
              "Battery                          1125\n",
              "arrest case no charge            1052\n",
              "other                             740\n",
              "Possession of Cocaine             464\n",
              "Grand Theft in the 3rd Degree     420\n",
              "                                 ... \n",
              "Cruelty Toward Child               11\n",
              "Leave Acc/Attend Veh/More $50      10\n",
              "Poss 3,4 MDMA (Ecstasy)            10\n",
              "Leaving Acc/Unattended Veh         10\n",
              "Criminal Mischief>$200<$1000       10\n",
              "Name: charge_cat, Length: 88, dtype: int64"
            ]
          },
          "metadata": {
            "tags": []
          },
          "execution_count": 64
        }
      ]
    },
    {
      "cell_type": "code",
      "metadata": {
        "id": "RpnxpuXTDc4i",
        "outputId": "a68ad276-a943-4119-9997-8b44e0c39980",
        "colab": {
          "base_uri": "https://localhost:8080/"
        }
      },
      "source": [
        "df1.dtypes"
      ],
      "execution_count": 65,
      "outputs": [
        {
          "output_type": "execute_result",
          "data": {
            "text/plain": [
              "priors_count                  int64\n",
              "days_b_screening_arrest     float64\n",
              "c_charge_desc                object\n",
              "screening_date              float64\n",
              "start                         int64\n",
              "end                           int64\n",
              "event                         int64\n",
              "two_year_recid                int64\n",
              "Male                          uint8\n",
              "Female                        uint8\n",
              "African-American              uint8\n",
              "Caucasian                     uint8\n",
              "Hispanic                      uint8\n",
              "Other                         uint8\n",
              "F                             uint8\n",
              "M                             uint8\n",
              "time_in_jail                float64\n",
              "time_in_custody             float64\n",
              "Less than 25                  uint8\n",
              "25 - 45                       uint8\n",
              "Greater than 45               uint8\n",
              "High                          uint8\n",
              "Low                           uint8\n",
              "Medium                        uint8\n",
              "charge_cat                 category\n",
              "dtype: object"
            ]
          },
          "metadata": {
            "tags": []
          },
          "execution_count": 65
        }
      ]
    },
    {
      "cell_type": "code",
      "metadata": {
        "id": "_DFZughsFzyX",
        "outputId": "978269dd-540d-42e2-b12b-d89b86fe04b3",
        "colab": {
          "base_uri": "https://localhost:8080/"
        }
      },
      "source": [
        "df1.shape"
      ],
      "execution_count": 66,
      "outputs": [
        {
          "output_type": "execute_result",
          "data": {
            "text/plain": [
              "(6900, 25)"
            ]
          },
          "metadata": {
            "tags": []
          },
          "execution_count": 66
        }
      ]
    },
    {
      "cell_type": "code",
      "metadata": {
        "id": "JJSGQHafJK2S"
      },
      "source": [
        "df1.drop(['c_charge_desc','charge_cat'],axis=1,inplace=True)"
      ],
      "execution_count": 67,
      "outputs": []
    },
    {
      "cell_type": "code",
      "metadata": {
        "id": "8c0JFsFTJcrR",
        "outputId": "f8c48000-e9af-4c28-de8d-21598ba80a52",
        "colab": {
          "base_uri": "https://localhost:8080/",
          "height": 257
        }
      },
      "source": [
        "df1.head()"
      ],
      "execution_count": 68,
      "outputs": [
        {
          "output_type": "execute_result",
          "data": {
            "text/html": [
              "<div>\n",
              "<style scoped>\n",
              "    .dataframe tbody tr th:only-of-type {\n",
              "        vertical-align: middle;\n",
              "    }\n",
              "\n",
              "    .dataframe tbody tr th {\n",
              "        vertical-align: top;\n",
              "    }\n",
              "\n",
              "    .dataframe thead th {\n",
              "        text-align: right;\n",
              "    }\n",
              "</style>\n",
              "<table border=\"1\" class=\"dataframe\">\n",
              "  <thead>\n",
              "    <tr style=\"text-align: right;\">\n",
              "      <th></th>\n",
              "      <th>priors_count</th>\n",
              "      <th>days_b_screening_arrest</th>\n",
              "      <th>screening_date</th>\n",
              "      <th>start</th>\n",
              "      <th>end</th>\n",
              "      <th>event</th>\n",
              "      <th>two_year_recid</th>\n",
              "      <th>Male</th>\n",
              "      <th>Female</th>\n",
              "      <th>African-American</th>\n",
              "      <th>Caucasian</th>\n",
              "      <th>Hispanic</th>\n",
              "      <th>Other</th>\n",
              "      <th>F</th>\n",
              "      <th>M</th>\n",
              "      <th>time_in_jail</th>\n",
              "      <th>time_in_custody</th>\n",
              "      <th>Less than 25</th>\n",
              "      <th>25 - 45</th>\n",
              "      <th>Greater than 45</th>\n",
              "      <th>High</th>\n",
              "      <th>Low</th>\n",
              "      <th>Medium</th>\n",
              "    </tr>\n",
              "  </thead>\n",
              "  <tbody>\n",
              "    <tr>\n",
              "      <th>0</th>\n",
              "      <td>0</td>\n",
              "      <td>-1.0</td>\n",
              "      <td>1.376438e+09</td>\n",
              "      <td>0</td>\n",
              "      <td>327</td>\n",
              "      <td>0</td>\n",
              "      <td>0</td>\n",
              "      <td>1</td>\n",
              "      <td>0</td>\n",
              "      <td>0</td>\n",
              "      <td>0</td>\n",
              "      <td>0</td>\n",
              "      <td>1</td>\n",
              "      <td>1</td>\n",
              "      <td>0</td>\n",
              "      <td>85058.0</td>\n",
              "      <td>604800.0</td>\n",
              "      <td>0</td>\n",
              "      <td>0</td>\n",
              "      <td>1</td>\n",
              "      <td>0</td>\n",
              "      <td>1</td>\n",
              "      <td>0</td>\n",
              "    </tr>\n",
              "    <tr>\n",
              "      <th>1</th>\n",
              "      <td>0</td>\n",
              "      <td>-1.0</td>\n",
              "      <td>1.359245e+09</td>\n",
              "      <td>9</td>\n",
              "      <td>159</td>\n",
              "      <td>1</td>\n",
              "      <td>1</td>\n",
              "      <td>1</td>\n",
              "      <td>0</td>\n",
              "      <td>1</td>\n",
              "      <td>0</td>\n",
              "      <td>0</td>\n",
              "      <td>0</td>\n",
              "      <td>1</td>\n",
              "      <td>0</td>\n",
              "      <td>870686.0</td>\n",
              "      <td>864000.0</td>\n",
              "      <td>0</td>\n",
              "      <td>1</td>\n",
              "      <td>0</td>\n",
              "      <td>0</td>\n",
              "      <td>1</td>\n",
              "      <td>0</td>\n",
              "    </tr>\n",
              "    <tr>\n",
              "      <th>2</th>\n",
              "      <td>4</td>\n",
              "      <td>-1.0</td>\n",
              "      <td>1.365898e+09</td>\n",
              "      <td>0</td>\n",
              "      <td>63</td>\n",
              "      <td>0</td>\n",
              "      <td>1</td>\n",
              "      <td>1</td>\n",
              "      <td>0</td>\n",
              "      <td>1</td>\n",
              "      <td>0</td>\n",
              "      <td>0</td>\n",
              "      <td>0</td>\n",
              "      <td>1</td>\n",
              "      <td>0</td>\n",
              "      <td>93810.0</td>\n",
              "      <td>0.0</td>\n",
              "      <td>1</td>\n",
              "      <td>0</td>\n",
              "      <td>0</td>\n",
              "      <td>0</td>\n",
              "      <td>1</td>\n",
              "      <td>0</td>\n",
              "    </tr>\n",
              "    <tr>\n",
              "      <th>5</th>\n",
              "      <td>0</td>\n",
              "      <td>0.0</td>\n",
              "      <td>1.385770e+09</td>\n",
              "      <td>1</td>\n",
              "      <td>853</td>\n",
              "      <td>0</td>\n",
              "      <td>0</td>\n",
              "      <td>1</td>\n",
              "      <td>0</td>\n",
              "      <td>0</td>\n",
              "      <td>0</td>\n",
              "      <td>0</td>\n",
              "      <td>1</td>\n",
              "      <td>0</td>\n",
              "      <td>1</td>\n",
              "      <td>113918.0</td>\n",
              "      <td>86400.0</td>\n",
              "      <td>0</td>\n",
              "      <td>1</td>\n",
              "      <td>0</td>\n",
              "      <td>0</td>\n",
              "      <td>1</td>\n",
              "      <td>0</td>\n",
              "    </tr>\n",
              "    <tr>\n",
              "      <th>6</th>\n",
              "      <td>14</td>\n",
              "      <td>-1.0</td>\n",
              "      <td>1.392768e+09</td>\n",
              "      <td>5</td>\n",
              "      <td>40</td>\n",
              "      <td>1</td>\n",
              "      <td>1</td>\n",
              "      <td>1</td>\n",
              "      <td>0</td>\n",
              "      <td>0</td>\n",
              "      <td>1</td>\n",
              "      <td>0</td>\n",
              "      <td>0</td>\n",
              "      <td>1</td>\n",
              "      <td>0</td>\n",
              "      <td>544206.0</td>\n",
              "      <td>1555200.0</td>\n",
              "      <td>0</td>\n",
              "      <td>1</td>\n",
              "      <td>0</td>\n",
              "      <td>0</td>\n",
              "      <td>0</td>\n",
              "      <td>1</td>\n",
              "    </tr>\n",
              "  </tbody>\n",
              "</table>\n",
              "</div>"
            ],
            "text/plain": [
              "   priors_count  days_b_screening_arrest  screening_date  ...  High  Low  Medium\n",
              "0             0                     -1.0    1.376438e+09  ...     0    1       0\n",
              "1             0                     -1.0    1.359245e+09  ...     0    1       0\n",
              "2             4                     -1.0    1.365898e+09  ...     0    1       0\n",
              "5             0                      0.0    1.385770e+09  ...     0    1       0\n",
              "6            14                     -1.0    1.392768e+09  ...     0    0       1\n",
              "\n",
              "[5 rows x 23 columns]"
            ]
          },
          "metadata": {
            "tags": []
          },
          "execution_count": 68
        }
      ]
    },
    {
      "cell_type": "code",
      "metadata": {
        "id": "6TACWhXkMdkB"
      },
      "source": [
        "#x = df1.values #returns a numpy array\n",
        "#min_max_scaler = preprocessing.MinMaxScaler()\n",
        "#x_scaled = min_max_scaler.fit_transform(x)\n",
        "#df1 = pd.DataFrame(x_scaled)"
      ],
      "execution_count": null,
      "outputs": []
    },
    {
      "cell_type": "code",
      "metadata": {
        "id": "wNpzzJrnM5HY"
      },
      "source": [
        "#df1.head()\n",
        "#X = df1.drop(['two_year_recid'],axis=1,inplace=True)\n",
        "#y = np.array(df1['two_year_recid'],axis=1)"
      ],
      "execution_count": null,
      "outputs": []
    },
    {
      "cell_type": "code",
      "metadata": {
        "id": "QeNQdjVtZeJy"
      },
      "source": [
        "df1.drop(['event','start','end'],axis=1,inplace=True)"
      ],
      "execution_count": 69,
      "outputs": []
    },
    {
      "cell_type": "code",
      "metadata": {
        "id": "8E2pgKIlaWbo"
      },
      "source": [
        "#df1[[\"end\", \"two_year_recid\"]].corr()"
      ],
      "execution_count": null,
      "outputs": []
    },
    {
      "cell_type": "code",
      "metadata": {
        "id": "ierx2DW-aFOt"
      },
      "source": [
        "X = df1.drop(['two_year_recid'],axis=1)\n",
        "y = df1['two_year_recid']"
      ],
      "execution_count": 70,
      "outputs": []
    },
    {
      "cell_type": "code",
      "metadata": {
        "id": "zfj6GSdNP8QH"
      },
      "source": [
        "X_train, X_test, y_train, y_test = train_test_split(X, y, test_size=0.2, random_state=42)"
      ],
      "execution_count": 71,
      "outputs": []
    },
    {
      "cell_type": "code",
      "metadata": {
        "id": "9aKuoExUUbAH",
        "outputId": "d2ca19ae-bea2-4c0e-bff7-0d2777150222",
        "colab": {
          "base_uri": "https://localhost:8080/"
        }
      },
      "source": [
        "from sklearn import preprocessing \n",
        "trainX1_norm = preprocessing.scale(X_train)\n",
        "testX1_norm = preprocessing.scale(X_test)"
      ],
      "execution_count": 72,
      "outputs": [
        {
          "output_type": "stream",
          "text": [
            "/usr/local/lib/python3.6/dist-packages/sklearn/preprocessing/_data.py:173: UserWarning: Numerical issues were encountered when centering the data and might not be solved. Dataset may contain too large values. You may need to prescale your features.\n",
            "  warnings.warn(\"Numerical issues were encountered \"\n",
            "/usr/local/lib/python3.6/dist-packages/sklearn/preprocessing/_data.py:173: UserWarning: Numerical issues were encountered when centering the data and might not be solved. Dataset may contain too large values. You may need to prescale your features.\n",
            "  warnings.warn(\"Numerical issues were encountered \"\n"
          ],
          "name": "stderr"
        }
      ]
    },
    {
      "cell_type": "code",
      "metadata": {
        "id": "V3-GYlJFQEYw",
        "outputId": "623f49de-40aa-4294-ebd0-8b353af1c40f",
        "colab": {
          "base_uri": "https://localhost:8080/"
        }
      },
      "source": [
        "n_estimators_rf = [50,70,100,120,150]\n",
        "quality_of_split_rf = ['entropy','gini']\n",
        "column_name_rf = ['Accuracy Score','Criterion','n_estimators']\n",
        "lst_rf = []\n",
        "accuracyList_rf = [-1] #because accuracy can never be -1\n",
        "for n_estimators in n_estimators_rf:\n",
        "  for criterion in quality_of_split_rf:\n",
        "    clf_rf = RandomForestClassifier(criterion=criterion,n_estimators=n_estimators)\n",
        "    rf = clf_rf.fit(trainX1_norm,y_train)\n",
        "    y_pred_rf = rf.predict(testX1_norm)\n",
        "    Accuracy_score_rf = accuracy_score(y_test,y_pred_rf)\n",
        "    if(Accuracy_score_rf > max(accuracyList_rf)):\n",
        "      yFinal_rf = y_pred_rf\n",
        "    accuracyList_rf.append(Accuracy_score_rf)\n",
        "    lst_rf.append([Accuracy_score_rf,criterion,n_estimators])\n",
        "    df_rf = pd.DataFrame(lst_rf,columns = column_name_rf)\n",
        "\n",
        "print(df_rf[df_rf['Accuracy Score']==df_rf['Accuracy Score'].max()])\n",
        "print(\"\\nNumber of mislabeled points out of %d total points : %d\"% ( testX1_norm.shape[0], (y_test!=   yFinal_rf).sum()))\n",
        "print(\"\\nPrediction of y by Decision tree model:\\n\",yFinal_rf)\n",
        "print(\"\\nConfusion Matrix for Decision Tree model:\\n\",confusion_matrix(y_test, yFinal_rf))\n"
      ],
      "execution_count": 73,
      "outputs": [
        {
          "output_type": "stream",
          "text": [
            "   Accuracy Score Criterion  n_estimators\n",
            "2        0.726812   entropy            70\n",
            "\n",
            "Number of mislabeled points out of 1380 total points : 377\n",
            "\n",
            "Prediction of y by Decision tree model:\n",
            " [1 0 1 ... 1 0 0]\n",
            "\n",
            "Confusion Matrix for Decision Tree model:\n",
            " [[551 196]\n",
            " [181 452]]\n"
          ],
          "name": "stdout"
        }
      ]
    },
    {
      "cell_type": "code",
      "metadata": {
        "id": "r-6Cg1jbijOa",
        "outputId": "0a75054f-6fbb-419a-f8a4-c0e663d4106a",
        "colab": {
          "base_uri": "https://localhost:8080/"
        }
      },
      "source": [
        "from sklearn.metrics import roc_auc_score\n",
        "roc_auc_score(y_test, yFinal_rf)"
      ],
      "execution_count": 74,
      "outputs": [
        {
          "output_type": "execute_result",
          "data": {
            "text/plain": [
              "0.7258385834015367"
            ]
          },
          "metadata": {
            "tags": []
          },
          "execution_count": 74
        }
      ]
    },
    {
      "cell_type": "code",
      "metadata": {
        "id": "SwBeTriTSbcW",
        "outputId": "0e04c8ef-0c06-4d18-f814-67b49a3f2fda",
        "colab": {
          "base_uri": "https://localhost:8080/"
        }
      },
      "source": [
        "importance = rf.feature_importances_\n",
        "# summarize feature importance\n",
        "for i,v in enumerate(importance):\n",
        "\tprint('Feature: %0d, Score: %.5f' % (i,v))"
      ],
      "execution_count": 75,
      "outputs": [
        {
          "output_type": "stream",
          "text": [
            "Feature: 0, Score: 0.10627\n",
            "Feature: 1, Score: 0.07233\n",
            "Feature: 2, Score: 0.31813\n",
            "Feature: 3, Score: 0.00937\n",
            "Feature: 4, Score: 0.00972\n",
            "Feature: 5, Score: 0.01349\n",
            "Feature: 6, Score: 0.01250\n",
            "Feature: 7, Score: 0.00825\n",
            "Feature: 8, Score: 0.00608\n",
            "Feature: 9, Score: 0.01105\n",
            "Feature: 10, Score: 0.01123\n",
            "Feature: 11, Score: 0.17351\n",
            "Feature: 12, Score: 0.12617\n",
            "Feature: 13, Score: 0.01342\n",
            "Feature: 14, Score: 0.01100\n",
            "Feature: 15, Score: 0.01142\n",
            "Feature: 16, Score: 0.02560\n",
            "Feature: 17, Score: 0.04781\n",
            "Feature: 18, Score: 0.01266\n"
          ],
          "name": "stdout"
        }
      ]
    },
    {
      "cell_type": "code",
      "metadata": {
        "id": "ESzWrPp8ZQbY",
        "outputId": "0cf3c6e8-a2f1-4ab7-c408-f47c4f682799",
        "colab": {
          "base_uri": "https://localhost:8080/"
        }
      },
      "source": [
        "print(df1.corr(method=\"kendall\")['two_year_recid'].sort_values(ascending=False))"
      ],
      "execution_count": 76,
      "outputs": [
        {
          "output_type": "stream",
          "text": [
            "two_year_recid             1.000000\n",
            "priors_count               0.274181\n",
            "High                       0.270547\n",
            "screening_date             0.201785\n",
            "time_in_custody            0.200852\n",
            "African-American           0.135253\n",
            "time_in_jail               0.131122\n",
            "Less than 25               0.114122\n",
            "Medium                     0.113687\n",
            "F                          0.108200\n",
            "Male                       0.093681\n",
            "days_b_screening_arrest    0.062179\n",
            "25 - 45                    0.020776\n",
            "Other                     -0.050426\n",
            "Hispanic                  -0.050558\n",
            "Caucasian                 -0.087652\n",
            "Female                    -0.093681\n",
            "M                         -0.108200\n",
            "Greater than 45           -0.139658\n",
            "Low                       -0.315364\n",
            "Name: two_year_recid, dtype: float64\n"
          ],
          "name": "stdout"
        }
      ]
    },
    {
      "cell_type": "code",
      "metadata": {
        "id": "j9IYXS21ILro",
        "outputId": "b22f35a6-027b-4e35-eea2-c822b112311d",
        "colab": {
          "base_uri": "https://localhost:8080/"
        }
      },
      "source": [
        "column_name_lr = ['Accuracy Score']\n",
        "lst_lr = []\n",
        "accuracyList_lr = [-1]\n",
        "\n",
        "lr = LogisticRegression(random_state=0)\n",
        "clf_lr = lr.fit(trainX1_norm,y_train)\n",
        "y_pred_lr = clf_lr.predict(testX1_norm)\n",
        "Accuracy_score_lr = accuracy_score(y_test,y_pred_lr)\n",
        "if(Accuracy_score_lr > max(accuracyList_lr)):\n",
        "  yFinal_lr = y_pred_lr\n",
        "accuracyList_lr.append(Accuracy_score_lr)\n",
        "lst_lr.append([Accuracy_score_lr])\n",
        "df_lr = pd.DataFrame(lst_lr,columns = column_name_lr)\n",
        "\n",
        "print(df_lr[df_lr['Accuracy Score']==df_lr['Accuracy Score'].max()])\n",
        "print(\"\\nNumber of mislabeled points out of %d total points : %d\"% ( testX1_norm.shape[0], (y_test!=   yFinal_lr).sum()))\n",
        "print(\"\\nPrediction of y by Logistic Regression model:\\n\",yFinal_lr)\n",
        "print(\"\\nConfusion Matrix for Logistic Regression model:\\n\",confusion_matrix(y_test, yFinal_lr))"
      ],
      "execution_count": 77,
      "outputs": [
        {
          "output_type": "stream",
          "text": [
            "   Accuracy Score\n",
            "0        0.718116\n",
            "\n",
            "Number of mislabeled points out of 1380 total points : 389\n",
            "\n",
            "Prediction of y by Logistic Regression model:\n",
            " [1 0 1 ... 1 0 1]\n",
            "\n",
            "Confusion Matrix for Logistic Regression model:\n",
            " [[594 153]\n",
            " [236 397]]\n"
          ],
          "name": "stdout"
        }
      ]
    },
    {
      "cell_type": "code",
      "metadata": {
        "id": "QPsTfrfYfYVc",
        "outputId": "6f10e01e-b2bf-4e3e-a427-f4f3980927f1",
        "colab": {
          "base_uri": "https://localhost:8080/"
        }
      },
      "source": [
        "from sklearn.metrics import roc_auc_score\n",
        "roc_auc_score(y_test, yFinal_lr)"
      ],
      "execution_count": 78,
      "outputs": [
        {
          "output_type": "execute_result",
          "data": {
            "text/plain": [
              "0.7111764593920706"
            ]
          },
          "metadata": {
            "tags": []
          },
          "execution_count": 78
        }
      ]
    },
    {
      "cell_type": "code",
      "metadata": {
        "id": "DlQ91sJddn9k",
        "outputId": "1ab6bbe9-91f8-4f34-d08b-9c0006186964",
        "colab": {
          "base_uri": "https://localhost:8080/"
        }
      },
      "source": [
        "from sklearn.ensemble import AdaBoostClassifier\n",
        "column_name_ab = ['Accuracy Score']\n",
        "lst_ab = []\n",
        "accuracyList_ab = [-1]\n",
        "ab = AdaBoostClassifier(n_estimators=200)\n",
        "clf_ab = ab.fit(trainX1_norm,y_train)\n",
        "y_pred_ab = clf_ab.predict(testX1_norm)\n",
        "Accuracy_score_ab = accuracy_score(y_test,y_pred_ab)\n",
        "if(Accuracy_score_ab > max(accuracyList_ab)):\n",
        "  yFinal_ab = y_pred_ab\n",
        "accuracyList_ab.append(Accuracy_score_ab)\n",
        "lst_ab.append([Accuracy_score_ab])\n",
        "df_ab = pd.DataFrame(lst_ab,columns = column_name_ab)\n",
        "\n",
        "print(df_ab[df_ab['Accuracy Score']==df_ab['Accuracy Score'].max()])\n",
        "print(\"\\nNumber of mislabeled points out of %d total points : %d\"% ( testX1_norm.shape[0], (y_test!=   yFinal_ab).sum()))\n",
        "print(\"\\nPrediction of y by AdaBoost Classifier model:\\n\",yFinal_ab)\n",
        "print(\"\\nConfusion Matrix for Logistic Regression model:\\n\",confusion_matrix(y_test, yFinal_ab))"
      ],
      "execution_count": 79,
      "outputs": [
        {
          "output_type": "stream",
          "text": [
            "   Accuracy Score\n",
            "0        0.734783\n",
            "\n",
            "Number of mislabeled points out of 1380 total points : 366\n",
            "\n",
            "Prediction of y by AdaBoost Classifier model:\n",
            " [1 0 1 ... 1 0 0]\n",
            "\n",
            "Confusion Matrix for Logistic Regression model:\n",
            " [[577 170]\n",
            " [196 437]]\n"
          ],
          "name": "stdout"
        }
      ]
    },
    {
      "cell_type": "code",
      "metadata": {
        "id": "BDSR1kK1iJuH",
        "outputId": "09dfadc2-f8c3-4ae5-963c-5fc2f32c436c",
        "colab": {
          "base_uri": "https://localhost:8080/"
        }
      },
      "source": [
        "from sklearn.metrics import roc_auc_score\n",
        "roc_auc_score(y_test, yFinal_ab)"
      ],
      "execution_count": 80,
      "outputs": [
        {
          "output_type": "execute_result",
          "data": {
            "text/plain": [
              "0.7313931872830977"
            ]
          },
          "metadata": {
            "tags": []
          },
          "execution_count": 80
        }
      ]
    },
    {
      "cell_type": "code",
      "metadata": {
        "id": "iW091vAkeqLo",
        "outputId": "16a8a69e-c591-4861-9c20-d80d63e46c87",
        "colab": {
          "base_uri": "https://localhost:8080/"
        }
      },
      "source": [
        "importance = clf_ab.feature_importances_\n",
        "# summarize feature importance\n",
        "for i,v in enumerate(importance):\n",
        "\tprint('Feature: %0d, Score: %.5f' % (i,v))"
      ],
      "execution_count": 81,
      "outputs": [
        {
          "output_type": "stream",
          "text": [
            "Feature: 0, Score: 0.12000\n",
            "Feature: 1, Score: 0.22500\n",
            "Feature: 2, Score: 0.12500\n",
            "Feature: 3, Score: 0.00000\n",
            "Feature: 4, Score: 0.00500\n",
            "Feature: 5, Score: 0.00000\n",
            "Feature: 6, Score: 0.00000\n",
            "Feature: 7, Score: 0.00000\n",
            "Feature: 8, Score: 0.00000\n",
            "Feature: 9, Score: 0.00000\n",
            "Feature: 10, Score: 0.00000\n",
            "Feature: 11, Score: 0.32500\n",
            "Feature: 12, Score: 0.15500\n",
            "Feature: 13, Score: 0.01000\n",
            "Feature: 14, Score: 0.00000\n",
            "Feature: 15, Score: 0.01000\n",
            "Feature: 16, Score: 0.00500\n",
            "Feature: 17, Score: 0.01500\n",
            "Feature: 18, Score: 0.00500\n"
          ],
          "name": "stdout"
        }
      ]
    }
  ]
}